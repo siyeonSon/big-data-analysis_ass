{
 "cells": [
  {
   "cell_type": "markdown",
   "metadata": {},
   "source": [
    "# 중간고사\n",
    "\n",
    "- 허용 : 온라인 검색, 프린트 자료 참고\n",
    "- 금지 : 타인(외부인 포함)과 대화, 통신 \n",
    "- 시험시간 : 18:30 ~ 20:00\n",
    "- 제출방법 : \"08-중간고사\" 과제에 08-Midterm.ipynb 파일 제출\n"
   ]
  },
  {
   "cell_type": "markdown",
   "metadata": {},
   "source": [
    "## 1. 데이터에 대한 분석 방법이 적절치 않은 것을 모두 고르시오 ( 0개  )   <- 괄호안에 쓸 것\n",
    "\n",
    "#### ( 정답의 갯수는 0~5개 사이, 오답이 포함되면 감점, 예) 2개 썼는데 하나 맞고 하나 틀리면 0점 )\n",
    "\n",
    "1. 성별에 따른 계절학기 수강 차이 분석 - 상관분석\n",
    "2. 군 휴학 전 후의 평점 비교 - 평균비교\n",
    "3. 강좌 별 수강신청 마감 소요 시간 분석 - 회귀분석 \n",
    "4. 공부시간과 성적의 관계 - 상관분석\n",
    "5. 연봉과 평점 관계 분석 - 평균비교"
   ]
  },
  {
   "cell_type": "markdown",
   "metadata": {},
   "source": [
    "## 2. 이상치, 결측치, 오류값 등에 관한 설명 중 틀린 것을 모두 고르시오  ( 1, 3, 4, 5 ) <- 괄호안에 쓸 것\n",
    "\n",
    "#### ( 정답의 갯수는 0~5개 사이, 오답이 포함되면 감점, 예) 2개 썼는데 하나 맞고 하나 틀리면 0점 )\n",
    "\n",
    "1. 통계적 outlier 정의는 상하위 0.1%의 값을 말함\n",
    "2. 연매출액이 800조원인 국내 기업 데이터는 오류값 임\n",
    "3. 졸업 평점 4.5인 학생의 성적은 특이값임\n",
    "4. nominal 데이터는 pd.Categorical() 을 통해 오류값을 제거할 수 있음\n",
    "5. NA값이 있어도 단일 변수 통계는 산출 가능함\n"
   ]
  },
  {
   "cell_type": "markdown",
   "metadata": {},
   "source": [
    "## 실습 문제\n",
    "\n",
    "- 08.zip 안에 주어진 file을 이용하여 \n",
    "- 특별한 지시가 없으면 답만 맞으면 됨 (warning은 괜찮음)\n",
    "- 실행 결과를 포함하여 제출함\n",
    "- 답안 작성에 문제 당 한 개 이상의 코드 블록을 써도 됨\n",
    "- 3번부터 순서대로 실행시 개별 문제의 답이 실행 되어야 함 (필요한 라이브러리 등을 위쪽에서 import해야 함. 개별 문제 별로 중복 import할 필요 없음, 최종 제출 전 실행결과를 지우고 순서대로 실행해 볼 것)\n"
   ]
  },
  {
   "cell_type": "code",
   "execution_count": 87,
   "metadata": {},
   "outputs": [],
   "source": [
    "import numpy as np\n",
    "import pandas as pd\n",
    "\n",
    "# 시각화\n",
    "import matplotlib.pyplot as plt\n",
    "from statsmodels.graphics.regressionplots import plot_partregress_grid\n",
    "\n",
    "# 크롤링\n",
    "import os\n",
    "import sys\n",
    "import datetime\n",
    "import time\n",
    "import json\n",
    "import urllib.request\n",
    "\n",
    "import re\n",
    "from bs4 import BeautifulSoup \n",
    "\n",
    "import urllib3\n",
    "import requests\n",
    "\n",
    "# 데이터\n",
    "import seaborn as sns\n",
    "\n",
    "# 통계 분석\n",
    "from scipy import stats\n",
    "from scipy.stats import chisquare, levene, ttest_ind, ttest_rel\n",
    "from statsmodels.formula.api import ols, glm\n",
    "from statsmodels.stats.anova import anova_lm\n",
    "\n",
    "# 머신 러닝\n",
    "from sklearn import linear_model\n",
    "from sklearn.linear_model import LinearRegression, Ridge, LogisticRegression\n",
    "from sklearn.model_selection import train_test_split, cross_validate, cross_val_score, KFold, GridSearchCV\n",
    "from sklearn.metrics import mean_squared_error, r2_score, make_scorer, confusion_matrix, accuracy_score, precision_score, recall_score, f1_score, roc_auc_score\n",
    "from sklearn.feature_selection import SelectKBest, f_regression\n",
    "from sklearn.preprocessing import StandardScaler\n",
    "from sklearn import decomposition\n",
    "from sklearn.preprocessing import LabelEncoder\n",
    "from sklearn.preprocessing import OneHotEncoder\n",
    "from sklearn import svm\n",
    "from sklearn.tree import DecisionTreeClassifier\n",
    "\n",
    "# 버전 오류 출력 X\n",
    "import warnings\n",
    "warnings.filterwarnings(action='ignore')"
   ]
  },
  {
   "cell_type": "code",
   "execution_count": 75,
   "metadata": {},
   "outputs": [],
   "source": [
    "# 문제\n",
    "\n",
    "import pandas as pd\n",
    "\n",
    "dataset = pd.read_csv('bridges.data', names=['ID','River','Location_Idx', 'Built_Year', 'Purpose', 'Length',\n",
    "                                             'Lanes', 'Clear_Ground', 'TorD', 'Material', 'Span', 'Rel_length', 'Type'])\n"
   ]
  },
  {
   "cell_type": "markdown",
   "metadata": {},
   "source": [
    "## 3. Type이 'WOOD' 또는 'SUSPEN' 인 다리의 Purpose, Lane 컬럼을 출력하시오\n"
   ]
  },
  {
   "cell_type": "code",
   "execution_count": 76,
   "metadata": {},
   "outputs": [
    {
     "name": "stdout",
     "output_type": "stream",
     "text": [
      "     Purpose Lanes\n",
      "0    HIGHWAY     2\n",
      "1    HIGHWAY     2\n",
      "2   AQUEDUCT     1\n",
      "3    HIGHWAY     2\n",
      "4    HIGHWAY     2\n",
      "5    HIGHWAY     2\n",
      "6   AQUEDUCT     1\n",
      "7    HIGHWAY     2\n",
      "8   AQUEDUCT     1\n",
      "9    HIGHWAY     2\n",
      "10        RR     2\n",
      "11   HIGHWAY     2\n",
      "12   HIGHWAY     2\n",
      "13        RR     2\n",
      "14   HIGHWAY     2\n",
      "17   HIGHWAY     2\n",
      "18   HIGHWAY     2\n",
      "20   HIGHWAY     ?\n",
      "21   HIGHWAY     4\n",
      "27   HIGHWAY     2\n",
      "38  AQUEDUCT     1\n",
      "42   HIGHWAY     2\n",
      "69      WALK     ?\n",
      "72   HIGHWAY     4\n",
      "73   HIGHWAY     4\n",
      "80   HIGHWAY     4\n",
      "84   HIGHWAY     4\n"
     ]
    }
   ],
   "source": [
    "print( dataset.loc[ dataset[\"Type\"].isin(['WOOD', 'SUSPEN']), [\"Purpose\", \"Lanes\"] ] )"
   ]
  },
  {
   "cell_type": "markdown",
   "metadata": {},
   "source": [
    "## 4. River의 분포를 파이 차트로 그리시오."
   ]
  },
  {
   "cell_type": "code",
   "execution_count": 12,
   "metadata": {},
   "outputs": [
    {
     "data": {
      "text/plain": [
       "<Axes: ylabel='River'>"
      ]
     },
     "execution_count": 12,
     "metadata": {},
     "output_type": "execute_result"
    },
    {
     "data": {
      "image/png": "[encoded data removed]",
      "text/plain": [
       "<Figure size 640x480 with 1 Axes>"
      ]
     },
     "metadata": {},
     "output_type": "display_data"
    }
   ],
   "source": [
    "dataset.River.value_counts().plot(kind='pie')"
   ]
  },
  {
   "cell_type": "markdown",
   "metadata": {},
   "source": [
    "## 5.  Lanes 의  평균 값을 구하시오\n",
    "(Lanes 값이 유효한 모든 레코드에 대해서 구하시오)"
   ]
  },
  {
   "cell_type": "code",
   "execution_count": 57,
   "metadata": {},
   "outputs": [
    {
     "name": "stdout",
     "output_type": "stream",
     "text": [
      "2.630434782608696\n"
     ]
    }
   ],
   "source": [
    "dataset.Lanes[dataset['Lanes']=='?']\n",
    "dataset.Lanes=dataset.Lanes.replace('?', np.NaN)\n",
    "# dataset.shape  # (108, 13)\n",
    "\n",
    "dataset=dataset.dropna()\n",
    "# dataset.shape  # (92, 13) 으로 변경\n",
    "\n",
    "print(dataset.Lanes.mean())"
   ]
  },
  {
   "cell_type": "markdown",
   "metadata": {},
   "source": [
    "## 6. Type 별로  Length 가 다른지 분석하고, 분석 결과를 통계적으로  설명하시오. \n",
    "( Type과 Length가 모두 유효한 값을 갖는 81개의 레코드에 대해 분석해야 함)"
   ]
  },
  {
   "cell_type": "code",
   "execution_count": 71,
   "metadata": {},
   "outputs": [
    {
     "name": "stdout",
     "output_type": "stream",
     "text": [
      "            df        sum_sq       mean_sq         F    PR(>F)\n",
      "Type       5.0  5.755743e+06  1.151149e+06  2.216945  0.061277\n",
      "Residual  75.0  3.894374e+07  5.192499e+05       NaN       NaN\n"
     ]
    },
    {
     "data": {
      "text/plain": [
       "<Axes: xlabel='Type', ylabel='Length'>"
      ]
     },
     "execution_count": 71,
     "metadata": {},
     "output_type": "execute_result"
    },
    {
     "data": {
      "image/png": "[encoded data removed]",
      "text/plain": [
       "<Figure size 640x480 with 1 Axes>"
      ]
     },
     "metadata": {},
     "output_type": "display_data"
    }
   ],
   "source": [
    "dataset = pd.read_csv('bridges.data', names=['ID','River','Location_Idx', 'Built_Year', 'Purpose', 'Length',\n",
    "                                             'Lanes', 'Clear_Ground', 'TorD', 'Material', 'Span', 'Rel_length', 'Type'])\n",
    "dataset.Type[dataset['Type']=='?']\n",
    "dataset.Type=dataset.Type.replace('?', np.NaN)\n",
    "dataset.Length[dataset['Length']=='?']\n",
    "dataset.Length=dataset.Length.replace('?', np.NaN)\n",
    "\n",
    "dataset=dataset.dropna()\n",
    "dataset.Length= dataset.Length.astype('int')\n",
    "# dataset.shape  # (81, 13)\n",
    "\n",
    "model = ols('Length~Type', dataset).fit()\n",
    "print( anova_lm(model) )\n",
    "\n",
    "sns.boxplot(x='Type', y='Length', data=dataset)"
   ]
  },
  {
   "cell_type": "markdown",
   "metadata": {},
   "source": [
    "#### 설명 : PR(>F)의 값이 0.061277로 0.05보다 크다. 따라서 통계적으로 유의미한 차이가 없다."
   ]
  },
  {
   "cell_type": "markdown",
   "metadata": {},
   "source": [
    "## 7. Span과 Type을 각기 적절한 방법으로 encoding 하시오. 전체 데이터를 바꾸지 않고 해당 컬럼에 대한 각각의 encoding결과만 출력되면 됨"
   ]
  },
  {
   "cell_type": "code",
   "execution_count": 147,
   "metadata": {},
   "outputs": [
    {
     "data": {
      "text/html": [
       "<div>\n",
       "<style scoped>\n",
       "    .dataframe tbody tr th:only-of-type {\n",
       "        vertical-align: middle;\n",
       "    }\n",
       "\n",
       "    .dataframe tbody tr th {\n",
       "        vertical-align: top;\n",
       "    }\n",
       "\n",
       "    .dataframe thead th {\n",
       "        text-align: right;\n",
       "    }\n",
       "</style>\n",
       "<table border=\"1\" class=\"dataframe\">\n",
       "  <thead>\n",
       "    <tr style=\"text-align: right;\">\n",
       "      <th></th>\n",
       "      <th>ID</th>\n",
       "      <th>River</th>\n",
       "      <th>Location_Idx</th>\n",
       "      <th>Built_Year</th>\n",
       "      <th>Purpose</th>\n",
       "      <th>Length</th>\n",
       "      <th>Lanes</th>\n",
       "      <th>Clear_Ground</th>\n",
       "      <th>TorD</th>\n",
       "      <th>Material</th>\n",
       "      <th>Span</th>\n",
       "      <th>Rel_length</th>\n",
       "      <th>Type</th>\n",
       "    </tr>\n",
       "  </thead>\n",
       "  <tbody>\n",
       "    <tr>\n",
       "      <th>0</th>\n",
       "      <td>E1</td>\n",
       "      <td>M</td>\n",
       "      <td>3</td>\n",
       "      <td>1818</td>\n",
       "      <td>HIGHWAY</td>\n",
       "      <td>?</td>\n",
       "      <td>2</td>\n",
       "      <td>N</td>\n",
       "      <td>THROUGH</td>\n",
       "      <td>WOOD</td>\n",
       "      <td>2</td>\n",
       "      <td>S</td>\n",
       "      <td>5</td>\n",
       "    </tr>\n",
       "    <tr>\n",
       "      <th>1</th>\n",
       "      <td>E2</td>\n",
       "      <td>A</td>\n",
       "      <td>25</td>\n",
       "      <td>1819</td>\n",
       "      <td>HIGHWAY</td>\n",
       "      <td>1037</td>\n",
       "      <td>2</td>\n",
       "      <td>N</td>\n",
       "      <td>THROUGH</td>\n",
       "      <td>WOOD</td>\n",
       "      <td>2</td>\n",
       "      <td>S</td>\n",
       "      <td>5</td>\n",
       "    </tr>\n",
       "    <tr>\n",
       "      <th>3</th>\n",
       "      <td>E5</td>\n",
       "      <td>A</td>\n",
       "      <td>29</td>\n",
       "      <td>1837</td>\n",
       "      <td>HIGHWAY</td>\n",
       "      <td>1000</td>\n",
       "      <td>2</td>\n",
       "      <td>N</td>\n",
       "      <td>THROUGH</td>\n",
       "      <td>WOOD</td>\n",
       "      <td>2</td>\n",
       "      <td>S</td>\n",
       "      <td>5</td>\n",
       "    </tr>\n",
       "    <tr>\n",
       "      <th>5</th>\n",
       "      <td>E7</td>\n",
       "      <td>A</td>\n",
       "      <td>27</td>\n",
       "      <td>1840</td>\n",
       "      <td>HIGHWAY</td>\n",
       "      <td>990</td>\n",
       "      <td>2</td>\n",
       "      <td>N</td>\n",
       "      <td>THROUGH</td>\n",
       "      <td>WOOD</td>\n",
       "      <td>1</td>\n",
       "      <td>S</td>\n",
       "      <td>5</td>\n",
       "    </tr>\n",
       "    <tr>\n",
       "      <th>6</th>\n",
       "      <td>E8</td>\n",
       "      <td>A</td>\n",
       "      <td>28</td>\n",
       "      <td>1844</td>\n",
       "      <td>AQUEDUCT</td>\n",
       "      <td>1000</td>\n",
       "      <td>1</td>\n",
       "      <td>N</td>\n",
       "      <td>THROUGH</td>\n",
       "      <td>IRON</td>\n",
       "      <td>2</td>\n",
       "      <td>S</td>\n",
       "      <td>4</td>\n",
       "    </tr>\n",
       "    <tr>\n",
       "      <th>...</th>\n",
       "      <td>...</td>\n",
       "      <td>...</td>\n",
       "      <td>...</td>\n",
       "      <td>...</td>\n",
       "      <td>...</td>\n",
       "      <td>...</td>\n",
       "      <td>...</td>\n",
       "      <td>...</td>\n",
       "      <td>...</td>\n",
       "      <td>...</td>\n",
       "      <td>...</td>\n",
       "      <td>...</td>\n",
       "      <td>...</td>\n",
       "    </tr>\n",
       "    <tr>\n",
       "      <th>101</th>\n",
       "      <td>E86</td>\n",
       "      <td>A</td>\n",
       "      <td>33</td>\n",
       "      <td>1961</td>\n",
       "      <td>HIGHWAY</td>\n",
       "      <td>980</td>\n",
       "      <td>4</td>\n",
       "      <td>G</td>\n",
       "      <td>DECK</td>\n",
       "      <td>STEEL</td>\n",
       "      <td>1</td>\n",
       "      <td>S-F</td>\n",
       "      <td>2</td>\n",
       "    </tr>\n",
       "    <tr>\n",
       "      <th>102</th>\n",
       "      <td>E85</td>\n",
       "      <td>M</td>\n",
       "      <td>9</td>\n",
       "      <td>1962</td>\n",
       "      <td>HIGHWAY</td>\n",
       "      <td>2213</td>\n",
       "      <td>4</td>\n",
       "      <td>G</td>\n",
       "      <td>DECK</td>\n",
       "      <td>STEEL</td>\n",
       "      <td>0</td>\n",
       "      <td>F</td>\n",
       "      <td>2</td>\n",
       "    </tr>\n",
       "    <tr>\n",
       "      <th>103</th>\n",
       "      <td>E84</td>\n",
       "      <td>A</td>\n",
       "      <td>24</td>\n",
       "      <td>1969</td>\n",
       "      <td>HIGHWAY</td>\n",
       "      <td>870</td>\n",
       "      <td>6</td>\n",
       "      <td>G</td>\n",
       "      <td>THROUGH</td>\n",
       "      <td>STEEL</td>\n",
       "      <td>1</td>\n",
       "      <td>F</td>\n",
       "      <td>0</td>\n",
       "    </tr>\n",
       "    <tr>\n",
       "      <th>104</th>\n",
       "      <td>E91</td>\n",
       "      <td>O</td>\n",
       "      <td>44</td>\n",
       "      <td>1975</td>\n",
       "      <td>HIGHWAY</td>\n",
       "      <td>3756</td>\n",
       "      <td>6</td>\n",
       "      <td>G</td>\n",
       "      <td>THROUGH</td>\n",
       "      <td>STEEL</td>\n",
       "      <td>0</td>\n",
       "      <td>F</td>\n",
       "      <td>0</td>\n",
       "    </tr>\n",
       "    <tr>\n",
       "      <th>105</th>\n",
       "      <td>E90</td>\n",
       "      <td>M</td>\n",
       "      <td>7</td>\n",
       "      <td>1978</td>\n",
       "      <td>HIGHWAY</td>\n",
       "      <td>950</td>\n",
       "      <td>6</td>\n",
       "      <td>G</td>\n",
       "      <td>THROUGH</td>\n",
       "      <td>STEEL</td>\n",
       "      <td>0</td>\n",
       "      <td>F</td>\n",
       "      <td>0</td>\n",
       "    </tr>\n",
       "  </tbody>\n",
       "</table>\n",
       "<p>92 rows × 13 columns</p>\n",
       "</div>"
      ],
      "text/plain": [
       "      ID River Location_Idx  Built_Year   Purpose Length Lanes Clear_Ground  \\\n",
       "0     E1     M            3        1818   HIGHWAY      ?     2            N   \n",
       "1     E2     A           25        1819   HIGHWAY   1037     2            N   \n",
       "3     E5     A           29        1837   HIGHWAY   1000     2            N   \n",
       "5     E7     A           27        1840   HIGHWAY    990     2            N   \n",
       "6     E8     A           28        1844  AQUEDUCT   1000     1            N   \n",
       "..   ...   ...          ...         ...       ...    ...   ...          ...   \n",
       "101  E86     A           33        1961   HIGHWAY    980     4            G   \n",
       "102  E85     M            9        1962   HIGHWAY   2213     4            G   \n",
       "103  E84     A           24        1969   HIGHWAY    870     6            G   \n",
       "104  E91     O           44        1975   HIGHWAY   3756     6            G   \n",
       "105  E90     M            7        1978   HIGHWAY    950     6            G   \n",
       "\n",
       "        TorD Material  Span Rel_length  Type  \n",
       "0    THROUGH     WOOD     2          S     5  \n",
       "1    THROUGH     WOOD     2          S     5  \n",
       "3    THROUGH     WOOD     2          S     5  \n",
       "5    THROUGH     WOOD     1          S     5  \n",
       "6    THROUGH     IRON     2          S     4  \n",
       "..       ...      ...   ...        ...   ...  \n",
       "101     DECK    STEEL     1        S-F     2  \n",
       "102     DECK    STEEL     0          F     2  \n",
       "103  THROUGH    STEEL     1          F     0  \n",
       "104  THROUGH    STEEL     0          F     0  \n",
       "105  THROUGH    STEEL     0          F     0  \n",
       "\n",
       "[92 rows x 13 columns]"
      ]
     },
     "execution_count": 147,
     "metadata": {},
     "output_type": "execute_result"
    }
   ],
   "source": [
    "dataset = pd.read_csv('bridges.data', names=['ID','River','Location_Idx', 'Built_Year', 'Purpose', 'Length',\n",
    "                                             'Lanes', 'Clear_Ground', 'TorD', 'Material', 'Span', 'Rel_length', 'Type'])\n",
    "\n",
    "# ? 값 제거\n",
    "dataset.Span[dataset['Span']=='?']\n",
    "dataset.Span=dataset.Span.replace('?', np.NaN)\n",
    "dataset.Type[dataset['Type']=='?']\n",
    "dataset.Type=dataset.Type.replace('?', np.NaN)\n",
    "\n",
    "dataset= dataset.dropna()\n",
    "dataset.shape  # (92, 13)\n",
    "\n",
    "le = LabelEncoder()\n",
    "dataset['Span'] = le.fit_transform(dataset['Span']);\n",
    "\n",
    "le = LabelEncoder()\n",
    "dataset['Type'] = le.fit_transform(dataset['Type']);\n",
    "\n",
    "dataset"
   ]
  },
  {
   "cell_type": "markdown",
   "metadata": {},
   "source": [
    "## 8. Built_Year로 Length를 예측하는 linear regression model을 만드시오. 50% 의 데이터로 학습한 다음, 50%의 데이터로 테스트 ( 데이터 분할시 random seed로 1을 사용)  후 mse를 구하시오 "
   ]
  },
  {
   "cell_type": "code",
   "execution_count": 143,
   "metadata": {},
   "outputs": [
    {
     "name": "stdout",
     "output_type": "stream",
     "text": [
      "mse : 413261.73326999566\n"
     ]
    }
   ],
   "source": [
    "\n",
    "dataset = pd.read_csv('bridges.data', names=['ID','River','Location_Idx', 'Built_Year', 'Purpose', 'Length',\n",
    "                                             'Lanes', 'Clear_Ground', 'TorD', 'Material', 'Span', 'Rel_length', 'Type'])\n",
    "\n",
    "# ? 값 제거\n",
    "dataset.Built_Year[dataset['Built_Year']=='?']\n",
    "dataset.Built_Year=dataset.Built_Year.replace('?', np.NaN)\n",
    "dataset.Length[dataset['Length']=='?']\n",
    "dataset.Length=dataset.Length.replace('?', np.NaN)\n",
    "\n",
    "dataset= dataset.dropna()\n",
    "\n",
    "X = dataset.Built_Year.values.reshape(-1, 1)\n",
    "Y = dataset.Length.values.reshape(-1, 1)\n",
    "\n",
    "# 학습 데이터와 테스트 데이터로 분할하기\n",
    "X_train, X_test, Y_train, Y_test = train_test_split(X, Y, test_size=0.5, random_state=1)\n",
    "\n",
    "## 모델 생성\n",
    "lr = LinearRegression()\n",
    "\n",
    "## 모델 훈련\n",
    "lr.fit(X_train, Y_train)\n",
    "\n",
    "\n",
    "Y_predict = lr.predict(X_test)\n",
    "Y_predict\n",
    "\n",
    "mse = mean_squared_error(Y_test, Y_predict)\n",
    "print(\"mse :\", mse)"
   ]
  },
  {
   "cell_type": "markdown",
   "metadata": {},
   "source": [
    "## 9. auto-mpg.csv 파일 레코드 중 70%를 이용해서 실린더 수를 \"분류\"하는 svm 모델을 만들고 ( car_name, origin 필드는 사용하지 않음) 나머지 30%의 test data로 test하여 예측 성능 (accuracy)을 분석하시오 "
   ]
  },
  {
   "cell_type": "code",
   "execution_count": 97,
   "metadata": {},
   "outputs": [
    {
     "name": "stdout",
     "output_type": "stream",
     "text": [
      "정확도 : 0.8728813559322034\n"
     ]
    }
   ],
   "source": [
    "# 읽어오기\n",
    "data_df = pd.read_csv('auto-mpg.csv', header=0, engine='python')\n",
    "\n",
    "# 분석하지 않을 변수 제외하기\n",
    "data_df = data_df.drop(['car_name', 'origin'], axis=1, inplace=False)\n",
    "\n",
    "# horsepower 이상치 제거 후 int 변환\n",
    "data_df.horsepower = data_df.horsepower.replace('?', np.NaN)\n",
    "data_df = data_df.dropna()\n",
    "data_df.horsepower= data_df.horsepower.astype('int')\n",
    "\n",
    "\n",
    "Y = data_df['cylinders']\n",
    "X = data_df.drop('cylinders', axis=1, inplace=False)\n",
    "\n",
    "# 훈련용 데이터와 평가용 데이터 분할하기\n",
    "X_train,X_test,Y_train,Y_test = train_test_split(X, Y, test_size = 0.3, random_state=0)\n",
    "\n",
    "# SVM : (1)모델 생성\n",
    "model = svm.SVC()\n",
    "\n",
    "# SVM : (2)모델 훈련\n",
    "model.fit(X_train, Y_train)\n",
    "\n",
    "# SVM : (3)평가 데이터에 대한 예측 수행 -> 예측 결과 Y_predict 구하기\n",
    "Y_predict = model.predict(X_test)\n",
    "\n",
    "acccuracy = accuracy_score(Y_test, Y_predict)\n",
    "print('정확도 :', acccuracy)"
   ]
  },
  {
   "cell_type": "markdown",
   "metadata": {},
   "source": [
    "정확도는 0.8728813559322034이다."
   ]
  },
  {
   "cell_type": "markdown",
   "metadata": {},
   "source": [
    "## 10.  9번의 데이터를 2 차원으로 축소(PCA)하여 결과를 비교하시오"
   ]
  },
  {
   "cell_type": "code",
   "execution_count": 99,
   "metadata": {},
   "outputs": [
    {
     "name": "stdout",
     "output_type": "stream",
     "text": [
      "정확도 : 0.8983050847457628\n"
     ]
    }
   ],
   "source": [
    "# 읽어오기\n",
    "data_df = pd.read_csv('auto-mpg.csv', header=0, engine='python')\n",
    "\n",
    "# 분석하지 않을 변수 제외하기\n",
    "data_df = data_df.drop(['car_name', 'origin'], axis=1, inplace=False)\n",
    "\n",
    "# horsepower 이상치 제거 후 int 변환\n",
    "data_df.horsepower = data_df.horsepower.replace('?', np.NaN)\n",
    "data_df = data_df.dropna()\n",
    "data_df.horsepower= data_df.horsepower.astype('int')\n",
    "\n",
    "# Y 선언\n",
    "Y = data_df['cylinders']\n",
    "data_df = data_df.drop('cylinders', axis=1, inplace=False)\n",
    "\n",
    "# fit & transform\n",
    "pca = decomposition.PCA(n_components=2)\n",
    "pca.fit(data_df)\n",
    "data_df_pca = pca.transform(data_df)\n",
    "\n",
    "X = data_df_pca\n",
    "\n",
    "\n",
    "# 훈련용 데이터와 평가용 데이터 분할하기\n",
    "X_train,X_test,Y_train,Y_test = train_test_split(X, Y, test_size = 0.3, random_state=0)\n",
    "\n",
    "# SVM : (1)모델 생성\n",
    "model = svm.SVC()\n",
    "\n",
    "# SVM : (2)모델 훈련\n",
    "model.fit(X_train, Y_train)\n",
    "\n",
    "# SVM : (3)평가 데이터에 대한 예측 수행 -> 예측 결과 Y_predict 구하기\n",
    "Y_predict = model.predict(X_test)\n",
    "\n",
    "acccuracy = accuracy_score(Y_test, Y_predict)\n",
    "print('정확도 :', acccuracy)"
   ]
  },
  {
   "cell_type": "markdown",
   "metadata": {},
   "source": [
    "정확도가 0.8983050847457628로 높아졌다."
   ]
  }
 ],
 "metadata": {
  "kernelspec": {
   "display_name": "Python 3 (ipykernel)",
   "language": "python",
   "name": "python3"
  },
  "language_info": {
   "codemirror_mode": {
    "name": "ipython",
    "version": 3
   },
   "file_extension": ".py",
   "mimetype": "text/x-python",
   "name": "python",
   "nbconvert_exporter": "python",
   "pygments_lexer": "ipython3",
   "version": "3.9.16"
  }
 },
 "nbformat": 4,
 "nbformat_minor": 4
}
