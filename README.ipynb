{
 "cells": [
  {
   "cell_type": "markdown",
   "id": "2edfea5e",
   "metadata": {},
   "source": [
    "# 중간고사 요약"
   ]
  },
  {
   "cell_type": "markdown",
   "id": "012487fc",
   "metadata": {},
   "source": [
    "## import"
   ]
  },
  {
   "cell_type": "code",
   "execution_count": 3,
   "id": "9af187d8",
   "metadata": {},
   "outputs": [],
   "source": [
    "import numpy as np\n",
    "import pandas as pd\n",
    "\n",
    "# 시각화\n",
    "import matplotlib.pyplot as plt\n",
    "from statsmodels.graphics.regressionplots import plot_partregress_grid\n",
    "\n",
    "# 크롤링\n",
    "import os\n",
    "import sys\n",
    "import datetime\n",
    "import time\n",
    "import json\n",
    "import urllib.request\n",
    "\n",
    "import re\n",
    "from bs4 import BeautifulSoup \n",
    "\n",
    "import urllib3\n",
    "import requests\n",
    "\n",
    "# 데이터\n",
    "import seaborn as sns\n",
    "# from sklearn.datasets import load_boston, make_regression, load_breast_cancer, fetch_california_housing\n",
    "# iris = sns.load_dataset('iris')\n",
    "# titanic = sns.load_dataset(\"titanic\")\n",
    "# boston =  load_boston()\n",
    "# b_cancer = load_breast_cancer()\n",
    "\n",
    "# 통계 분석\n",
    "from scipy import stats\n",
    "from scipy.stats import chisquare, levene, ttest_ind, ttest_rel # 이건 선택에 따라\n",
    "from statsmodels.formula.api import ols, glm\n",
    "from statsmodels.stats.anova import anova_lm\n",
    "\n",
    "# 머신 러닝\n",
    "from sklearn import linear_model\n",
    "from sklearn.linear_model import LinearRegression, Ridge, LogisticRegression\n",
    "from sklearn.model_selection import train_test_split, cross_validate, cross_val_score, KFold, GridSearchCV\n",
    "from sklearn.metrics import mean_squared_error, r2_score, make_scorer, confusion_matrix, accuracy_score, precision_score, recall_score, f1_score, roc_auc_score\n",
    "from sklearn.feature_selection import SelectKBest, f_regression\n",
    "from sklearn.preprocessing import StandardScaler\n",
    "from sklearn import decomposition\n",
    "from sklearn import svm\n",
    "from sklearn.tree import DecisionTreeClassifier\n",
    "\n",
    "# 버전 오류 출력 X\n",
    "import warnings\n",
    "warnings.filterwarnings(action='ignore')"
   ]
  },
  {
   "cell_type": "markdown",
   "id": "7c880398",
   "metadata": {},
   "source": [
    "### * 과제1.1 : 성별, 혈액형 별 몸무게의 평균"
   ]
  },
  {
   "cell_type": "code",
   "execution_count": 1,
   "id": "b5d029a8",
   "metadata": {},
   "outputs": [
    {
     "name": "stdout",
     "output_type": "stream",
     "text": [
      "남자, O, 65.1\n",
      "남자, B, 68.95\n",
      "남자, AB, 80.75\n",
      "남자, A, 58.75\n",
      "여자, AB, 53.0\n",
      "여자, A, 52.25\n",
      "여자, O, 50.13333333333333\n",
      "여자, B, 45.2\n"
     ]
    }
   ],
   "source": [
    "## 1) .txt 읽기\n",
    "fd = open(\"studentlist.txt\", encoding=\"cp949\")\n",
    "fd.readline() # 헤딩 \n",
    "lines= fd.readlines()\n",
    "\n",
    "## 2) 필드 분할, 가공\n",
    "Table=[] # 전체 레코드를 담은 테이블 \n",
    "\n",
    "for line in lines :  # 한 줄 씩  line 변수에 담아서    \n",
    "    fields= line.split(\",\") # , 를 기준으로 나눈다. -> fields라는 list가 만들어진다.\n",
    "    # name,sex,age,grade,absence,bloodtype,height,weight,dept\n",
    "    #  0    1   2    3    4        5         6     7      8\n",
    "\n",
    "    fields[2]= int(fields[2])  # 나이를 숫자로 바꿔 넣기\n",
    "    fields[6]= float(fields[6])  # 키를 숫자로 바꿔 넣기\n",
    "    fields[7] = float(fields[7]) # 몸무게도 \n",
    "    fields[8]= fields[8].strip()\n",
    "          \n",
    "    Table.append(fields)  #레코드를 테이블에 추가 \n",
    "\n",
    "## 3) 성별, 혈액형 별 몸무게의 평균 구하기\n",
    "w_table={Table[0][1] : {Table[0][5] : [0, 0]}}  # 집계 테이블 : { 성별 : { 혈액형 : [합계, 도수] } }\n",
    "\n",
    "for rec in Table :\n",
    "    sex=rec[1]\n",
    "    bloodtype=rec[5]\n",
    "    weight=rec[7]\n",
    "    if sex in w_table:  # 성별이 있는지\n",
    "        if bloodtype in w_table[sex] :  # 혈액형이 있는지\n",
    "            w_table[sex][bloodtype] = [w_table[sex][bloodtype][0]+weight, w_table[sex][bloodtype][1]+ 1]  # 몸무게 합계, 갯수 \n",
    "        else :\n",
    "            w_table[sex][bloodtype] = [weight, 1]  # 몸무게, 갯수\n",
    "    else:\n",
    "        w_table[sex] = { bloodtype : [weight, 1] }  # { 혈액형 : [합계, 도수] } \n",
    "\n",
    "for sex, values in w_table.items():\n",
    "    for bloodtype, value in w_table[sex].items() :\n",
    "        print(sex, bloodtype, value[0]/value[1], sep=', ')\n"
   ]
  },
  {
   "cell_type": "markdown",
   "id": "f0394124",
   "metadata": {},
   "source": [
    "## csv 읽기"
   ]
  },
  {
   "cell_type": "code",
   "execution_count": null,
   "id": "f65e9f89",
   "metadata": {},
   "outputs": [],
   "source": [
    "std_df = pd.read_csv(\"studentlist.csv\", encoding=\"cp949\")"
   ]
  },
  {
   "cell_type": "markdown",
   "id": "3dc87e8d",
   "metadata": {},
   "source": [
    "## pandas"
   ]
  },
  {
   "cell_type": "code",
   "execution_count": 4,
   "id": "8b48ed1c",
   "metadata": {},
   "outputs": [
    {
     "name": "stdout",
     "output_type": "stream",
     "text": [
      "          A         B         C         D\n",
      "0  0.512109  1.718466 -1.518152 -0.198456\n",
      "1 -0.959589  0.349876 -0.411440 -0.822834\n",
      "2  0.314792 -0.950794  0.042545 -1.681817\n",
      "3  1.924633  2.376449 -0.918245 -0.428290\n",
      "4 -0.303539 -1.440994 -0.441735  0.953474\n",
      "5  0.486681 -0.064954 -0.959106 -0.198576\n",
      "          A         B         C\n",
      "1 -0.959589  0.349876 -0.411440\n",
      "2  0.314792 -0.950794  0.042545\n",
      "          A         B\n",
      "1 -0.959589  0.349876\n",
      "2  0.314792 -0.950794\n",
      "3  1.924633  2.376449\n",
      "          A         B         C         D\n",
      "1 -0.959589  0.349876 -0.411440 -0.822834\n",
      "4 -0.303539 -1.440994 -0.441735  0.953474\n",
      "Empty DataFrame\n",
      "Columns: [A, B, C]\n",
      "Index: []\n"
     ]
    }
   ],
   "source": [
    "# numpy -> pandas\n",
    "df = pd.DataFrame(np.random.randn(6, 4), index=np.arange(6), columns=list(\"ABCD\"))\n",
    "print(df)\n",
    "\n",
    "# 숫자에 의한 참조\n",
    "print( df.iloc[1:3, 0:3] )\n",
    "\n",
    "# label에 의한 참조\n",
    "print( df.loc[1:3, [\"A\",\"B\"]] )\n",
    "\n",
    "# 값에 의한 참조 : boolean indexing , 조건에 맞는 row를 선택\n",
    "print( df[ df[\"A\"] < 0 ] )\n",
    "\n",
    "# isin : 포함 조건\n",
    "print( df.loc[ df[\"B\"].isin([0, 1]), [\"A\", \"B\", \"C\"] ] )"
   ]
  },
  {
   "cell_type": "markdown",
   "id": "cbdf33fd",
   "metadata": {},
   "source": [
    "### 과제 2.5 : studentlist의 혈액형 별 도수를 bar 차트로 그리시오"
   ]
  },
  {
   "cell_type": "code",
   "execution_count": null,
   "id": "a8266042",
   "metadata": {},
   "outputs": [],
   "source": [
    "df = pd.read_csv(\"studentlist.csv\", encoding=\"cp949\")\n",
    "A = df.groupby(\"bloodtype\").size()\n",
    "plt.bar(A.index, A.values)"
   ]
  },
  {
   "cell_type": "markdown",
   "id": "a6af83ee",
   "metadata": {},
   "source": [
    "## 시각화\n",
    "- matplotlib.pyplot\n",
    "    - `titanic.survived.value_counts().plot(kind='bar')`\n",
    "    - `titanic.survived.value_counts().plot(kind='pie')`\n",
    "- sns.countplot\n",
    "    - `sns.countplot(x='survived', data=titanic)`"
   ]
  },
  {
   "cell_type": "code",
   "execution_count": 5,
   "id": "b5d22b54",
   "metadata": {},
   "outputs": [
    {
     "data": {
      "text/plain": [
       "<Axes: >"
      ]
     },
     "execution_count": 5,
     "metadata": {},
     "output_type": "execute_result"
    },
    {
     "data": {
      "image/png": "[encoded data removed]",
      "text/plain": [
       "<Figure size 640x480 with 1 Axes>"
      ]
     },
     "metadata": {},
     "output_type": "display_data"
    }
   ],
   "source": [
    "# 타이타닉 데이터\n",
    "titanic = sns.load_dataset(\"titanic\")\n",
    "\n",
    "# bar\n",
    "titanic.survived.value_counts().plot(kind='bar')"
   ]
  },
  {
   "cell_type": "code",
   "execution_count": 6,
   "id": "0e42167c",
   "metadata": {},
   "outputs": [
    {
     "data": {
      "text/plain": [
       "<Axes: ylabel='survived'>"
      ]
     },
     "execution_count": 6,
     "metadata": {},
     "output_type": "execute_result"
    },
    {
     "data": {
      "image/png": "[encoded data removed]",
      "text/plain": [
       "<Figure size 640x480 with 1 Axes>"
      ]
     },
     "metadata": {},
     "output_type": "display_data"
    }
   ],
   "source": [
    "# pie\n",
    "titanic.survived.value_counts().plot(kind='pie')"
   ]
  },
  {
   "cell_type": "code",
   "execution_count": 7,
   "id": "13fe1664",
   "metadata": {},
   "outputs": [
    {
     "data": {
      "text/plain": [
       "<Axes: xlabel='survived', ylabel='count'>"
      ]
     },
     "execution_count": 7,
     "metadata": {},
     "output_type": "execute_result"
    },
    {
     "data": {
      "image/png": "[encoded data removed]",
      "text/plain": [
       "<Figure size 640x480 with 1 Axes>"
      ]
     },
     "metadata": {},
     "output_type": "display_data"
    }
   ],
   "source": [
    "sns.countplot(x='survived', data=titanic)"
   ]
  },
  {
   "cell_type": "code",
   "execution_count": 8,
   "id": "457ca66b",
   "metadata": {},
   "outputs": [
    {
     "data": {
      "text/plain": [
       "{'whiskers': [<matplotlib.lines.Line2D at 0x7f87e00b74f0>,\n",
       "  <matplotlib.lines.Line2D at 0x7f87e00b7670>],\n",
       " 'caps': [<matplotlib.lines.Line2D at 0x7f87e00b7910>,\n",
       "  <matplotlib.lines.Line2D at 0x7f87e00b7bb0>],\n",
       " 'boxes': [<matplotlib.lines.Line2D at 0x7f87e00b7250>],\n",
       " 'medians': [<matplotlib.lines.Line2D at 0x7f87e00b7e50>],\n",
       " 'fliers': [<matplotlib.lines.Line2D at 0x7f87f88c8130>],\n",
       " 'means': []}"
      ]
     },
     "execution_count": 8,
     "metadata": {},
     "output_type": "execute_result"
    },
    {
     "data": {
      "image/png": "[encoded data removed]",
      "text/plain": [
       "<Figure size 640x480 with 1 Axes>"
      ]
     },
     "metadata": {},
     "output_type": "display_data"
    }
   ],
   "source": [
    "# quartile, IQR 관련 시각화\n",
    "plt.boxplot(titanic.fare, vert=False)"
   ]
  },
  {
   "attachments": {
    "image.png": {
     "image/png": "[encoded data removed]"
    }
   },
   "cell_type": "markdown",
   "id": "29a39afb",
   "metadata": {},
   "source": [
    "# 관계 분석\n",
    "![image.png](attachment:image.png)"
   ]
  },
  {
   "cell_type": "markdown",
   "id": "ee70fde4",
   "metadata": {},
   "source": [
    "## nominal - nominal : 교차분석\n",
    "\n",
    "### 차이의 통계적 유의성\n",
    "- 통계적 유의성 (= 모집단에서도 그럴 것인가 = 지금 샘플의 결과에서의 차이가 통계적으로 유의미한 차이인가)\n",
    "- `chi2_contingency(crosstab)`\n",
    "- pvalue < 0.05 이면 (남녀 생존율이) 통계적으로 유의미한 차이가 있다."
   ]
  },
  {
   "cell_type": "markdown",
   "id": "e57ae37b",
   "metadata": {},
   "source": [
    "### 과제1 : class별 생존자 수를 비교하고 (시각화포함), 통계적으로 유의한 차이인지 분석하시오"
   ]
  },
  {
   "cell_type": "code",
   "execution_count": 9,
   "id": "7a9e2e45",
   "metadata": {},
   "outputs": [
    {
     "name": "stdout",
     "output_type": "stream",
     "text": [
      "survived    0    1\n",
      "class             \n",
      "First      80  136\n",
      "Second     97   87\n",
      "Third     372  119\n"
     ]
    },
    {
     "data": {
      "text/plain": [
       "<Axes: xlabel='class'>"
      ]
     },
     "execution_count": 9,
     "metadata": {},
     "output_type": "execute_result"
    },
    {
     "data": {
      "image/png": "[encoded data removed]",
      "text/plain": [
       "<Figure size 640x480 with 2 Axes>"
      ]
     },
     "metadata": {},
     "output_type": "display_data"
    },
    {
     "data": {
      "image/png": "[encoded data removed]",
      "text/plain": [
       "<Figure size 640x480 with 1 Axes>"
      ]
     },
     "metadata": {},
     "output_type": "display_data"
    }
   ],
   "source": [
    "# class는 예약어라서 titanic.class 불가능 -> titanic[\"class\"]\n",
    "ct2=pd.crosstab(titanic[\"class\"], titanic.survived)\n",
    "print(ct2)  # 숫자\n",
    "stats.chi2_contingency(ct2)\n",
    "\n",
    "ct2.plot.pie(subplots=True)  # 시각화\n",
    "ct2.plot.bar(stacked=True)\n",
    "\n",
    "# pvalue < 0.05 이므로 class에 따라 생존자 수가 일정하지 않다\n",
    "# 따라서 class별 생존자 수가 통계적으로 유의미한 차이가 있다"
   ]
  },
  {
   "cell_type": "markdown",
   "id": "fd663e0c",
   "metadata": {},
   "source": [
    "## nominal-numeric : 평균 비교\n",
    "- nominal data value group (독립변수) 에 따라 numeric value (종속변수) 의 mean이 다른가?\n",
    "- 독립변수 -> 종속변수\n",
    "- `df.groupby (독립변수).종속변수.mean()`\n",
    "- `sns.boxplot (x=독립변수, y=종속변수, data= df )`"
   ]
  },
  {
   "cell_type": "code",
   "execution_count": 10,
   "id": "5722eb3c",
   "metadata": {},
   "outputs": [
    {
     "data": {
      "text/html": [
       "<div>\n",
       "<style scoped>\n",
       "    .dataframe tbody tr th:only-of-type {\n",
       "        vertical-align: middle;\n",
       "    }\n",
       "\n",
       "    .dataframe tbody tr th {\n",
       "        vertical-align: top;\n",
       "    }\n",
       "\n",
       "    .dataframe thead th {\n",
       "        text-align: right;\n",
       "    }\n",
       "</style>\n",
       "<table border=\"1\" class=\"dataframe\">\n",
       "  <thead>\n",
       "    <tr style=\"text-align: right;\">\n",
       "      <th></th>\n",
       "      <th>survived</th>\n",
       "      <th>pclass</th>\n",
       "      <th>age</th>\n",
       "      <th>sibsp</th>\n",
       "      <th>parch</th>\n",
       "      <th>fare</th>\n",
       "    </tr>\n",
       "  </thead>\n",
       "  <tbody>\n",
       "    <tr>\n",
       "      <th>count</th>\n",
       "      <td>891.000000</td>\n",
       "      <td>891.000000</td>\n",
       "      <td>714.000000</td>\n",
       "      <td>891.000000</td>\n",
       "      <td>891.000000</td>\n",
       "      <td>891.000000</td>\n",
       "    </tr>\n",
       "    <tr>\n",
       "      <th>mean</th>\n",
       "      <td>0.383838</td>\n",
       "      <td>2.308642</td>\n",
       "      <td>29.699118</td>\n",
       "      <td>0.523008</td>\n",
       "      <td>0.381594</td>\n",
       "      <td>32.204208</td>\n",
       "    </tr>\n",
       "    <tr>\n",
       "      <th>std</th>\n",
       "      <td>0.486592</td>\n",
       "      <td>0.836071</td>\n",
       "      <td>14.526497</td>\n",
       "      <td>1.102743</td>\n",
       "      <td>0.806057</td>\n",
       "      <td>49.693429</td>\n",
       "    </tr>\n",
       "    <tr>\n",
       "      <th>min</th>\n",
       "      <td>0.000000</td>\n",
       "      <td>1.000000</td>\n",
       "      <td>0.420000</td>\n",
       "      <td>0.000000</td>\n",
       "      <td>0.000000</td>\n",
       "      <td>0.000000</td>\n",
       "    </tr>\n",
       "    <tr>\n",
       "      <th>25%</th>\n",
       "      <td>0.000000</td>\n",
       "      <td>2.000000</td>\n",
       "      <td>20.125000</td>\n",
       "      <td>0.000000</td>\n",
       "      <td>0.000000</td>\n",
       "      <td>7.910400</td>\n",
       "    </tr>\n",
       "    <tr>\n",
       "      <th>50%</th>\n",
       "      <td>0.000000</td>\n",
       "      <td>3.000000</td>\n",
       "      <td>28.000000</td>\n",
       "      <td>0.000000</td>\n",
       "      <td>0.000000</td>\n",
       "      <td>14.454200</td>\n",
       "    </tr>\n",
       "    <tr>\n",
       "      <th>75%</th>\n",
       "      <td>1.000000</td>\n",
       "      <td>3.000000</td>\n",
       "      <td>38.000000</td>\n",
       "      <td>1.000000</td>\n",
       "      <td>0.000000</td>\n",
       "      <td>31.000000</td>\n",
       "    </tr>\n",
       "    <tr>\n",
       "      <th>max</th>\n",
       "      <td>1.000000</td>\n",
       "      <td>3.000000</td>\n",
       "      <td>80.000000</td>\n",
       "      <td>8.000000</td>\n",
       "      <td>6.000000</td>\n",
       "      <td>512.329200</td>\n",
       "    </tr>\n",
       "  </tbody>\n",
       "</table>\n",
       "</div>"
      ],
      "text/plain": [
       "         survived      pclass         age       sibsp       parch        fare\n",
       "count  891.000000  891.000000  714.000000  891.000000  891.000000  891.000000\n",
       "mean     0.383838    2.308642   29.699118    0.523008    0.381594   32.204208\n",
       "std      0.486592    0.836071   14.526497    1.102743    0.806057   49.693429\n",
       "min      0.000000    1.000000    0.420000    0.000000    0.000000    0.000000\n",
       "25%      0.000000    2.000000   20.125000    0.000000    0.000000    7.910400\n",
       "50%      0.000000    3.000000   28.000000    0.000000    0.000000   14.454200\n",
       "75%      1.000000    3.000000   38.000000    1.000000    0.000000   31.000000\n",
       "max      1.000000    3.000000   80.000000    8.000000    6.000000  512.329200"
      ]
     },
     "execution_count": 10,
     "metadata": {},
     "output_type": "execute_result"
    }
   ],
   "source": [
    "# 값이 2 종인 독립변수\n",
    "titanic.groupby('sex').fare.mean()\n",
    "\n",
    "# 값이 3종 이상인 독립변수\n",
    "titanic.groupby('class').fare.mean()\n",
    "\n",
    "# mean 외에도 가능 \n",
    "titanic.groupby('class').fare.median()\n",
    "\n",
    "# 평균 비교\n",
    "titanic.describe()"
   ]
  },
  {
   "cell_type": "code",
   "execution_count": 11,
   "id": "064e75d5",
   "metadata": {},
   "outputs": [
    {
     "name": "stdout",
     "output_type": "stream",
     "text": [
      "Ttest_indResult(statistic=-5.077499013458909, pvalue=5.388057409693902e-07)\n"
     ]
    },
    {
     "data": {
      "text/plain": [
       "<Axes: xlabel='sex', ylabel='fare'>"
      ]
     },
     "execution_count": 11,
     "metadata": {},
     "output_type": "execute_result"
    },
    {
     "data": {
      "image/png": "[encoded data removed]",
      "text/plain": [
       "<Figure size 640x480 with 1 Axes>"
      ]
     },
     "metadata": {},
     "output_type": "display_data"
    }
   ],
   "source": [
    "## 성별과 요금에 따른 통계적 유의성\n",
    "male= titanic[titanic.sex==\"male\"]\n",
    "female= titanic[titanic.sex==\"female\"]\n",
    "levene(male.fare,female.fare)\n",
    "print( ttest_ind(male.fare, female.fare, equal_var=False) )\n",
    "# 성별에 따른 요금의 차이가 통계적 유의성이 있다. (=통계적으로 유의미한 수준의 차이가 있다)\n",
    "\n",
    "# 시각화\n",
    "sns.boxplot(x='sex', y='fare', data=titanic)\n",
    "# sns.boxplot(x='sex', y='fare', hue='class', data=titanic)"
   ]
  },
  {
   "cell_type": "markdown",
   "id": "de7a8a92",
   "metadata": {},
   "source": [
    "### one way anova\n",
    "- `m = ols ('종속변수~독립변수', df).fit()` : 모델 생성\n",
    "- `anova_lm(m)` : 모델에 대한 정보 조회\n",
    "- 데이터분석에서 모델 : 간단히 데이터 또는 데이터 간의 관계를 설명하는 도구"
   ]
  },
  {
   "cell_type": "code",
   "execution_count": 12,
   "id": "b8c5a1b1",
   "metadata": {},
   "outputs": [
    {
     "name": "stdout",
     "output_type": "stream",
     "text": [
      "embark_town\n",
      "Cherbourg      30.814769\n",
      "Queenstown     28.089286\n",
      "Southampton    29.445397\n",
      "Name: age, dtype: float64\n",
      "                df         sum_sq     mean_sq        F    PR(>F)\n",
      "embark_town    2.0     267.719790  133.859895  0.63664  0.529369\n",
      "Residual     709.0  149074.349191  210.260013      NaN       NaN\n"
     ]
    },
    {
     "data": {
      "text/plain": [
       "<Axes: xlabel='embark_town', ylabel='age'>"
      ]
     },
     "execution_count": 12,
     "metadata": {},
     "output_type": "execute_result"
    },
    {
     "data": {
      "image/png": "[encoded data removed]",
      "text/plain": [
       "<Figure size 640x480 with 1 Axes>"
      ]
     },
     "metadata": {},
     "output_type": "display_data"
    }
   ],
   "source": [
    "## 출발도시에 따라 탑승객 연령의 차이\n",
    "## 출발도시와 탑승객의 총계적 유의성\n",
    "print(titanic.groupby('embark_town').age.mean())\n",
    "\n",
    "model = ols('age~embark_town', titanic).fit()\n",
    "print( anova_lm(model) )\n",
    "# pclass PR(>F)의 값이 0.05보다 크므로, 통계적으로 유의미한 차이가 없다\n",
    "\n",
    "sns.boxplot(x='embark_town', y='age', data=titanic)"
   ]
  },
  {
   "cell_type": "markdown",
   "id": "18c00650",
   "metadata": {},
   "source": [
    "## numeric-numeric (상관분석)\n",
    "- 상관관계 : 같이 증가, 같이 감소 (선형적 상관관계)\n",
    "- 독립변수 -> 종속 변수 같은 순서가 없음\n",
    "- 데이터를 봐서는 상관관계를 알기 어려움, 시각화 필요\n",
    "- 상관 계수"
   ]
  },
  {
   "cell_type": "code",
   "execution_count": 13,
   "id": "725a25bd",
   "metadata": {},
   "outputs": [
    {
     "data": {
      "text/html": [
       "<div>\n",
       "<style scoped>\n",
       "    .dataframe tbody tr th:only-of-type {\n",
       "        vertical-align: middle;\n",
       "    }\n",
       "\n",
       "    .dataframe tbody tr th {\n",
       "        vertical-align: top;\n",
       "    }\n",
       "\n",
       "    .dataframe thead th {\n",
       "        text-align: right;\n",
       "    }\n",
       "</style>\n",
       "<table border=\"1\" class=\"dataframe\">\n",
       "  <thead>\n",
       "    <tr style=\"text-align: right;\">\n",
       "      <th></th>\n",
       "      <th>survived</th>\n",
       "      <th>pclass</th>\n",
       "      <th>age</th>\n",
       "      <th>sibsp</th>\n",
       "      <th>parch</th>\n",
       "      <th>fare</th>\n",
       "      <th>adult_male</th>\n",
       "      <th>alone</th>\n",
       "    </tr>\n",
       "  </thead>\n",
       "  <tbody>\n",
       "    <tr>\n",
       "      <th>survived</th>\n",
       "      <td>1.000000</td>\n",
       "      <td>-0.338481</td>\n",
       "      <td>-0.077221</td>\n",
       "      <td>-0.035322</td>\n",
       "      <td>0.081629</td>\n",
       "      <td>0.257307</td>\n",
       "      <td>-0.557080</td>\n",
       "      <td>-0.203367</td>\n",
       "    </tr>\n",
       "    <tr>\n",
       "      <th>pclass</th>\n",
       "      <td>-0.338481</td>\n",
       "      <td>1.000000</td>\n",
       "      <td>-0.369226</td>\n",
       "      <td>0.083081</td>\n",
       "      <td>0.018443</td>\n",
       "      <td>-0.549500</td>\n",
       "      <td>0.094035</td>\n",
       "      <td>0.135207</td>\n",
       "    </tr>\n",
       "    <tr>\n",
       "      <th>age</th>\n",
       "      <td>-0.077221</td>\n",
       "      <td>-0.369226</td>\n",
       "      <td>1.000000</td>\n",
       "      <td>-0.308247</td>\n",
       "      <td>-0.189119</td>\n",
       "      <td>0.096067</td>\n",
       "      <td>0.280328</td>\n",
       "      <td>0.198270</td>\n",
       "    </tr>\n",
       "    <tr>\n",
       "      <th>sibsp</th>\n",
       "      <td>-0.035322</td>\n",
       "      <td>0.083081</td>\n",
       "      <td>-0.308247</td>\n",
       "      <td>1.000000</td>\n",
       "      <td>0.414838</td>\n",
       "      <td>0.159651</td>\n",
       "      <td>-0.253586</td>\n",
       "      <td>-0.584471</td>\n",
       "    </tr>\n",
       "    <tr>\n",
       "      <th>parch</th>\n",
       "      <td>0.081629</td>\n",
       "      <td>0.018443</td>\n",
       "      <td>-0.189119</td>\n",
       "      <td>0.414838</td>\n",
       "      <td>1.000000</td>\n",
       "      <td>0.216225</td>\n",
       "      <td>-0.349943</td>\n",
       "      <td>-0.583398</td>\n",
       "    </tr>\n",
       "    <tr>\n",
       "      <th>fare</th>\n",
       "      <td>0.257307</td>\n",
       "      <td>-0.549500</td>\n",
       "      <td>0.096067</td>\n",
       "      <td>0.159651</td>\n",
       "      <td>0.216225</td>\n",
       "      <td>1.000000</td>\n",
       "      <td>-0.182024</td>\n",
       "      <td>-0.271832</td>\n",
       "    </tr>\n",
       "    <tr>\n",
       "      <th>adult_male</th>\n",
       "      <td>-0.557080</td>\n",
       "      <td>0.094035</td>\n",
       "      <td>0.280328</td>\n",
       "      <td>-0.253586</td>\n",
       "      <td>-0.349943</td>\n",
       "      <td>-0.182024</td>\n",
       "      <td>1.000000</td>\n",
       "      <td>0.404744</td>\n",
       "    </tr>\n",
       "    <tr>\n",
       "      <th>alone</th>\n",
       "      <td>-0.203367</td>\n",
       "      <td>0.135207</td>\n",
       "      <td>0.198270</td>\n",
       "      <td>-0.584471</td>\n",
       "      <td>-0.583398</td>\n",
       "      <td>-0.271832</td>\n",
       "      <td>0.404744</td>\n",
       "      <td>1.000000</td>\n",
       "    </tr>\n",
       "  </tbody>\n",
       "</table>\n",
       "</div>"
      ],
      "text/plain": [
       "            survived    pclass       age     sibsp     parch      fare  \\\n",
       "survived    1.000000 -0.338481 -0.077221 -0.035322  0.081629  0.257307   \n",
       "pclass     -0.338481  1.000000 -0.369226  0.083081  0.018443 -0.549500   \n",
       "age        -0.077221 -0.369226  1.000000 -0.308247 -0.189119  0.096067   \n",
       "sibsp      -0.035322  0.083081 -0.308247  1.000000  0.414838  0.159651   \n",
       "parch       0.081629  0.018443 -0.189119  0.414838  1.000000  0.216225   \n",
       "fare        0.257307 -0.549500  0.096067  0.159651  0.216225  1.000000   \n",
       "adult_male -0.557080  0.094035  0.280328 -0.253586 -0.349943 -0.182024   \n",
       "alone      -0.203367  0.135207  0.198270 -0.584471 -0.583398 -0.271832   \n",
       "\n",
       "            adult_male     alone  \n",
       "survived     -0.557080 -0.203367  \n",
       "pclass        0.094035  0.135207  \n",
       "age           0.280328  0.198270  \n",
       "sibsp        -0.253586 -0.584471  \n",
       "parch        -0.349943 -0.583398  \n",
       "fare         -0.182024 -0.271832  \n",
       "adult_male    1.000000  0.404744  \n",
       "alone         0.404744  1.000000  "
      ]
     },
     "execution_count": 13,
     "metadata": {},
     "output_type": "execute_result"
    }
   ],
   "source": [
    "# 모든 numeric변수에 대해 상관계수 구하기 (int 인 nominal포함)\n",
    "## 상관계수구하기: df.corr() \n",
    "titanic.corr()\n",
    "\n",
    "# 예: 0.8, 0.96 -> 상관관계가 높음 -> titanic 데이터에서는 높은 상관계수가 없음"
   ]
  },
  {
   "cell_type": "markdown",
   "id": "1c29db7d",
   "metadata": {},
   "source": [
    "- 상관분석 : 상관도가 높은 변수 pair를 찾아내기 -> 상관관계가 높은 변수가 없음\n",
    "    - 예: 나이가 많을수록 사망률이 높음 -> 상관계수가 1에 가까움\n",
    "- 위의 table 도 눈에 안들어오니 시각화 필요"
   ]
  },
  {
   "cell_type": "code",
   "execution_count": 14,
   "id": "4339005e",
   "metadata": {},
   "outputs": [
    {
     "data": {
      "text/plain": [
       "<Axes: >"
      ]
     },
     "execution_count": 14,
     "metadata": {},
     "output_type": "execute_result"
    },
    {
     "data": {
      "image/png": "[encoded data removed]",
      "text/plain": [
       "<Figure size 640x480 with 2 Axes>"
      ]
     },
     "metadata": {},
     "output_type": "display_data"
    }
   ],
   "source": [
    "sns.heatmap(titanic.corr())"
   ]
  },
  {
   "attachments": {
    "image.png": {
     "image/png": "[encoded data removed]"
    }
   },
   "cell_type": "markdown",
   "id": "69f34714",
   "metadata": {},
   "source": [
    "### 스피어만 상관계수\n",
    "- 기본은 pearson : 선형관계 (값의 크기 자체가 의미가 있는 numeric : 곱하기 나누기가 의미를 갖는 숫자)\n",
    "- 수치형 변수 종류 (3가지)\n",
    "    - 순서만 의미있는 수치 : 학력 (고졸, 대졸, 대학원졸.. )\n",
    "    - +/- 가 가능한 수치 : 섭씨온도, 지능지수\n",
    "    - */ / 가 의미있는 수치 : 중량\n",
    "- spearman: 값의 크기 대신 순위로 계산 (순서가 있는 nominal 데이터)\n",
    "\n",
    "#### 주의점\n",
    "- 상관계수의 해석이 주관적임(다음 같은 기준이 있긴 하나..)\n",
    "![image.png](attachment:image.png)\n",
    "\n",
    "- 특히, 개별 관측치에 속한 2변수 (예, 키-몸무게) 가 아닌, 상이한 2개의 통계 데이터(연도 별 키의 통계, 연도 별 몸무게의 통계) 의 상관관계는 큰 의미가 없음\n",
    "- 30개 이상의 관측치(레코드)가 있어야 의미가 있다. t-test에서도 마찬가지.. "
   ]
  },
  {
   "cell_type": "code",
   "execution_count": 15,
   "id": "17d000f2",
   "metadata": {},
   "outputs": [
    {
     "data": {
      "text/plain": [
       "<matplotlib.collections.PathCollection at 0x7f8839d84610>"
      ]
     },
     "execution_count": 15,
     "metadata": {},
     "output_type": "execute_result"
    },
    {
     "data": {
      "image/png": "[encoded data removed]",
      "text/plain": [
       "<Figure size 640x480 with 1 Axes>"
      ]
     },
     "metadata": {},
     "output_type": "display_data"
    }
   ],
   "source": [
    "x=np.arange(0,10)\n",
    "y1=x\n",
    "stats.pearsonr(x,y1)  # 상관계수(statistic) = 1\n",
    "plt.scatter(x,y1)"
   ]
  },
  {
   "cell_type": "markdown",
   "id": "06b9cf4d",
   "metadata": {},
   "source": [
    "### numeric-numeric (회귀분석)\n",
    "- 상관관계 : 2 변수가 같이 증가, 같이 감소 (선형적 상관관계, 직선에 얼마나 몰려있는지)\n",
    "- 회귀분석 : 독립변수 -> 종속변수 선형적 상관관계의 정도(기울기)까지 분석\n",
    "- 단순 선형회귀 : 하나의 독립변수 -> 하나의 종속변수\n",
    "- 모델 생성 : `모델=ols( '종속변수~독립변수', data=데이터).fit()`\n",
    "- 모델 정보 조회 : `모델.summary()`, `모델.params`"
   ]
  },
  {
   "cell_type": "code",
   "execution_count": 17,
   "id": "79f7febf",
   "metadata": {},
   "outputs": [
    {
     "name": "stdout",
     "output_type": "stream",
     "text": [
      "   fixed acidity  volatile acidity  citric acid  residual sugar  chlorides  \\\n",
      "0            7.4              0.70         0.00             1.9      0.076   \n",
      "1            7.8              0.88         0.00             2.6      0.098   \n",
      "2            7.8              0.76         0.04             2.3      0.092   \n",
      "3           11.2              0.28         0.56             1.9      0.075   \n",
      "4            7.4              0.70         0.00             1.9      0.076   \n",
      "\n",
      "   free sulfur dioxide  total sulfur dioxide  density    pH  sulphates  \\\n",
      "0                 11.0                  34.0   0.9978  3.51       0.56   \n",
      "1                 25.0                  67.0   0.9968  3.20       0.68   \n",
      "2                 15.0                  54.0   0.9970  3.26       0.65   \n",
      "3                 17.0                  60.0   0.9980  3.16       0.58   \n",
      "4                 11.0                  34.0   0.9978  3.51       0.56   \n",
      "\n",
      "   alcohol  quality  \n",
      "0      9.4        5  \n",
      "1      9.8        5  \n",
      "2      9.8        5  \n",
      "3      9.8        6  \n",
      "4      9.4        5  \n",
      "fixed acidity           0.124052\n",
      "volatile acidity       -0.390558\n",
      "citric acid             0.226373\n",
      "residual sugar          0.013732\n",
      "chlorides              -0.128907\n",
      "free sulfur dioxide    -0.050656\n",
      "total sulfur dioxide   -0.185100\n",
      "density                -0.174919\n",
      "pH                     -0.057731\n",
      "sulphates               0.251397\n",
      "alcohol                 0.476166\n",
      "quality                 1.000000\n",
      "Name: quality, dtype: float64\n"
     ]
    },
    {
     "data": {
      "text/plain": [
       "<Axes: >"
      ]
     },
     "execution_count": 17,
     "metadata": {},
     "output_type": "execute_result"
    },
    {
     "data": {
      "image/png": "[encoded data removed]",
      "text/plain": [
       "<Figure size 640x480 with 2 Axes>"
      ]
     },
     "metadata": {},
     "output_type": "display_data"
    }
   ],
   "source": [
    "## red wine 데이터(\"winequaility-red.csv\")에서 quality 변수와 가장 상관관계가 높은 변수를 찾으시오. 시각화, 과정 포함\n",
    "# red wine 읽어오기\n",
    "red_df= pd.read_csv(\"winequality-red.csv\", sep=\";\")\n",
    "print(red_df.head())\n",
    "\n",
    "print(red_df.corr().quality)\n",
    "\n",
    "sns.heatmap(red_df.corr())\n",
    "# quality 변수는 alcohol 변수와 가장 상관관계가 높다"
   ]
  },
  {
   "cell_type": "code",
   "execution_count": 18,
   "id": "72b43f7b",
   "metadata": {},
   "outputs": [
    {
     "data": {
      "text/html": [
       "<div>\n",
       "<style scoped>\n",
       "    .dataframe tbody tr th:only-of-type {\n",
       "        vertical-align: middle;\n",
       "    }\n",
       "\n",
       "    .dataframe tbody tr th {\n",
       "        vertical-align: top;\n",
       "    }\n",
       "\n",
       "    .dataframe thead th {\n",
       "        text-align: right;\n",
       "    }\n",
       "</style>\n",
       "<table border=\"1\" class=\"dataframe\">\n",
       "  <thead>\n",
       "    <tr style=\"text-align: right;\">\n",
       "      <th></th>\n",
       "      <th>fixed acidity</th>\n",
       "      <th>volatile acidity</th>\n",
       "      <th>citric acid</th>\n",
       "      <th>residual sugar</th>\n",
       "      <th>chlorides</th>\n",
       "      <th>free sulfur dioxide</th>\n",
       "      <th>total sulfur dioxide</th>\n",
       "      <th>density</th>\n",
       "      <th>pH</th>\n",
       "      <th>sulphates</th>\n",
       "      <th>alcohol</th>\n",
       "      <th>quality</th>\n",
       "      <th>type</th>\n",
       "    </tr>\n",
       "  </thead>\n",
       "  <tbody>\n",
       "    <tr>\n",
       "      <th>0</th>\n",
       "      <td>7.4</td>\n",
       "      <td>0.70</td>\n",
       "      <td>0.00</td>\n",
       "      <td>1.9</td>\n",
       "      <td>0.076</td>\n",
       "      <td>11.0</td>\n",
       "      <td>34.0</td>\n",
       "      <td>0.99780</td>\n",
       "      <td>3.51</td>\n",
       "      <td>0.56</td>\n",
       "      <td>9.4</td>\n",
       "      <td>5</td>\n",
       "      <td>NaN</td>\n",
       "    </tr>\n",
       "    <tr>\n",
       "      <th>1</th>\n",
       "      <td>7.8</td>\n",
       "      <td>0.88</td>\n",
       "      <td>0.00</td>\n",
       "      <td>2.6</td>\n",
       "      <td>0.098</td>\n",
       "      <td>25.0</td>\n",
       "      <td>67.0</td>\n",
       "      <td>0.99680</td>\n",
       "      <td>3.20</td>\n",
       "      <td>0.68</td>\n",
       "      <td>9.8</td>\n",
       "      <td>5</td>\n",
       "      <td>NaN</td>\n",
       "    </tr>\n",
       "    <tr>\n",
       "      <th>2</th>\n",
       "      <td>7.8</td>\n",
       "      <td>0.76</td>\n",
       "      <td>0.04</td>\n",
       "      <td>2.3</td>\n",
       "      <td>0.092</td>\n",
       "      <td>15.0</td>\n",
       "      <td>54.0</td>\n",
       "      <td>0.99700</td>\n",
       "      <td>3.26</td>\n",
       "      <td>0.65</td>\n",
       "      <td>9.8</td>\n",
       "      <td>5</td>\n",
       "      <td>NaN</td>\n",
       "    </tr>\n",
       "    <tr>\n",
       "      <th>3</th>\n",
       "      <td>11.2</td>\n",
       "      <td>0.28</td>\n",
       "      <td>0.56</td>\n",
       "      <td>1.9</td>\n",
       "      <td>0.075</td>\n",
       "      <td>17.0</td>\n",
       "      <td>60.0</td>\n",
       "      <td>0.99800</td>\n",
       "      <td>3.16</td>\n",
       "      <td>0.58</td>\n",
       "      <td>9.8</td>\n",
       "      <td>6</td>\n",
       "      <td>NaN</td>\n",
       "    </tr>\n",
       "    <tr>\n",
       "      <th>4</th>\n",
       "      <td>7.4</td>\n",
       "      <td>0.70</td>\n",
       "      <td>0.00</td>\n",
       "      <td>1.9</td>\n",
       "      <td>0.076</td>\n",
       "      <td>11.0</td>\n",
       "      <td>34.0</td>\n",
       "      <td>0.99780</td>\n",
       "      <td>3.51</td>\n",
       "      <td>0.56</td>\n",
       "      <td>9.4</td>\n",
       "      <td>5</td>\n",
       "      <td>NaN</td>\n",
       "    </tr>\n",
       "    <tr>\n",
       "      <th>...</th>\n",
       "      <td>...</td>\n",
       "      <td>...</td>\n",
       "      <td>...</td>\n",
       "      <td>...</td>\n",
       "      <td>...</td>\n",
       "      <td>...</td>\n",
       "      <td>...</td>\n",
       "      <td>...</td>\n",
       "      <td>...</td>\n",
       "      <td>...</td>\n",
       "      <td>...</td>\n",
       "      <td>...</td>\n",
       "      <td>...</td>\n",
       "    </tr>\n",
       "    <tr>\n",
       "      <th>4893</th>\n",
       "      <td>6.2</td>\n",
       "      <td>0.21</td>\n",
       "      <td>0.29</td>\n",
       "      <td>1.6</td>\n",
       "      <td>0.039</td>\n",
       "      <td>24.0</td>\n",
       "      <td>92.0</td>\n",
       "      <td>0.99114</td>\n",
       "      <td>3.27</td>\n",
       "      <td>0.50</td>\n",
       "      <td>11.2</td>\n",
       "      <td>6</td>\n",
       "      <td>white</td>\n",
       "    </tr>\n",
       "    <tr>\n",
       "      <th>4894</th>\n",
       "      <td>6.6</td>\n",
       "      <td>0.32</td>\n",
       "      <td>0.36</td>\n",
       "      <td>8.0</td>\n",
       "      <td>0.047</td>\n",
       "      <td>57.0</td>\n",
       "      <td>168.0</td>\n",
       "      <td>0.99490</td>\n",
       "      <td>3.15</td>\n",
       "      <td>0.46</td>\n",
       "      <td>9.6</td>\n",
       "      <td>5</td>\n",
       "      <td>white</td>\n",
       "    </tr>\n",
       "    <tr>\n",
       "      <th>4895</th>\n",
       "      <td>6.5</td>\n",
       "      <td>0.24</td>\n",
       "      <td>0.19</td>\n",
       "      <td>1.2</td>\n",
       "      <td>0.041</td>\n",
       "      <td>30.0</td>\n",
       "      <td>111.0</td>\n",
       "      <td>0.99254</td>\n",
       "      <td>2.99</td>\n",
       "      <td>0.46</td>\n",
       "      <td>9.4</td>\n",
       "      <td>6</td>\n",
       "      <td>white</td>\n",
       "    </tr>\n",
       "    <tr>\n",
       "      <th>4896</th>\n",
       "      <td>5.5</td>\n",
       "      <td>0.29</td>\n",
       "      <td>0.30</td>\n",
       "      <td>1.1</td>\n",
       "      <td>0.022</td>\n",
       "      <td>20.0</td>\n",
       "      <td>110.0</td>\n",
       "      <td>0.98869</td>\n",
       "      <td>3.34</td>\n",
       "      <td>0.38</td>\n",
       "      <td>12.8</td>\n",
       "      <td>7</td>\n",
       "      <td>white</td>\n",
       "    </tr>\n",
       "    <tr>\n",
       "      <th>4897</th>\n",
       "      <td>6.0</td>\n",
       "      <td>0.21</td>\n",
       "      <td>0.38</td>\n",
       "      <td>0.8</td>\n",
       "      <td>0.020</td>\n",
       "      <td>22.0</td>\n",
       "      <td>98.0</td>\n",
       "      <td>0.98941</td>\n",
       "      <td>3.26</td>\n",
       "      <td>0.32</td>\n",
       "      <td>11.8</td>\n",
       "      <td>6</td>\n",
       "      <td>white</td>\n",
       "    </tr>\n",
       "  </tbody>\n",
       "</table>\n",
       "<p>6497 rows × 13 columns</p>\n",
       "</div>"
      ],
      "text/plain": [
       "      fixed acidity  volatile acidity  citric acid  residual sugar  chlorides  \\\n",
       "0               7.4              0.70         0.00             1.9      0.076   \n",
       "1               7.8              0.88         0.00             2.6      0.098   \n",
       "2               7.8              0.76         0.04             2.3      0.092   \n",
       "3              11.2              0.28         0.56             1.9      0.075   \n",
       "4               7.4              0.70         0.00             1.9      0.076   \n",
       "...             ...               ...          ...             ...        ...   \n",
       "4893            6.2              0.21         0.29             1.6      0.039   \n",
       "4894            6.6              0.32         0.36             8.0      0.047   \n",
       "4895            6.5              0.24         0.19             1.2      0.041   \n",
       "4896            5.5              0.29         0.30             1.1      0.022   \n",
       "4897            6.0              0.21         0.38             0.8      0.020   \n",
       "\n",
       "      free sulfur dioxide  total sulfur dioxide  density    pH  sulphates  \\\n",
       "0                    11.0                  34.0  0.99780  3.51       0.56   \n",
       "1                    25.0                  67.0  0.99680  3.20       0.68   \n",
       "2                    15.0                  54.0  0.99700  3.26       0.65   \n",
       "3                    17.0                  60.0  0.99800  3.16       0.58   \n",
       "4                    11.0                  34.0  0.99780  3.51       0.56   \n",
       "...                   ...                   ...      ...   ...        ...   \n",
       "4893                 24.0                  92.0  0.99114  3.27       0.50   \n",
       "4894                 57.0                 168.0  0.99490  3.15       0.46   \n",
       "4895                 30.0                 111.0  0.99254  2.99       0.46   \n",
       "4896                 20.0                 110.0  0.98869  3.34       0.38   \n",
       "4897                 22.0                  98.0  0.98941  3.26       0.32   \n",
       "\n",
       "      alcohol  quality   type  \n",
       "0         9.4        5    NaN  \n",
       "1         9.8        5    NaN  \n",
       "2         9.8        5    NaN  \n",
       "3         9.8        6    NaN  \n",
       "4         9.4        5    NaN  \n",
       "...       ...      ...    ...  \n",
       "4893     11.2        6  white  \n",
       "4894      9.6        5  white  \n",
       "4895      9.4        6  white  \n",
       "4896     12.8        7  white  \n",
       "4897     11.8        6  white  \n",
       "\n",
       "[6497 rows x 13 columns]"
      ]
     },
     "execution_count": 18,
     "metadata": {},
     "output_type": "execute_result"
    }
   ],
   "source": [
    "# white wine 읽어 오기, column 추가 및 합치기 \n",
    "white_df= pd.read_csv(\"winequality-white.csv\", sep=\";\")\n",
    "white_df.insert(0, column='type', value='white')\n",
    "wine=pd.concat([red_df, white_df]); wine\n",
    "# 아래로 값을 더함. type이 none인 경우 red wines, type white인 경우 white wine"
   ]
  },
  {
   "cell_type": "code",
   "execution_count": 19,
   "id": "b3c7c290",
   "metadata": {},
   "outputs": [
    {
     "name": "stdout",
     "output_type": "stream",
     "text": [
      "                            OLS Regression Results                            \n",
      "==============================================================================\n",
      "Dep. Variable:                quality   R-squared:                       0.197\n",
      "Model:                            OLS   Adj. R-squared:                  0.197\n",
      "Method:                 Least Squares   F-statistic:                     1598.\n",
      "Date:                Mon, 01 May 2023   Prob (F-statistic):          1.50e-312\n",
      "Time:                        18:01:53   Log-Likelihood:                -7623.4\n",
      "No. Observations:                6497   AIC:                         1.525e+04\n",
      "Df Residuals:                    6495   BIC:                         1.526e+04\n",
      "Df Model:                           1                                         \n",
      "Covariance Type:            nonrobust                                         \n",
      "==============================================================================\n",
      "                 coef    std err          t      P>|t|      [0.025      0.975]\n",
      "------------------------------------------------------------------------------\n",
      "Intercept      2.4053      0.086     27.988      0.000       2.237       2.574\n",
      "alcohol        0.3253      0.008     39.970      0.000       0.309       0.341\n",
      "==============================================================================\n",
      "Omnibus:                      123.922   Durbin-Watson:                   1.636\n",
      "Prob(Omnibus):                  0.000   Jarque-Bera (JB):              258.800\n",
      "Skew:                           0.031   Prob(JB):                     6.34e-57\n",
      "Kurtosis:                       3.976   Cond. No.                         94.3\n",
      "==============================================================================\n",
      "\n",
      "Notes:\n",
      "[1] Standard Errors assume that the covariance matrix of the errors is correctly specified.\n",
      "Intercept    2.405269\n",
      "alcohol      0.325312\n",
      "dtype: float64\n"
     ]
    }
   ],
   "source": [
    "# 선형 회귀\n",
    "m1 = ols('quality~alcohol', data=wine).fit()\n",
    "print(m1.summary())\n",
    "# 분석을 통해 회귀 계수를 찾음 -> coef = 0.3253\n",
    "\n",
    "print(m1.params)"
   ]
  },
  {
   "cell_type": "code",
   "execution_count": 20,
   "id": "78e86b98",
   "metadata": {},
   "outputs": [
    {
     "data": {
      "text/plain": [
       "<Axes: xlabel='alcohol', ylabel='quality'>"
      ]
     },
     "execution_count": 20,
     "metadata": {},
     "output_type": "execute_result"
    },
    {
     "data": {
      "image/png": "[encoded data removed]",
      "text/plain": [
       "<Figure size 640x480 with 1 Axes>"
      ]
     },
     "metadata": {},
     "output_type": "display_data"
    }
   ],
   "source": [
    "# 모델 시각화\n",
    "sns.regplot(x=\"alcohol\", y=\"quality\", data=wine)"
   ]
  },
  {
   "cell_type": "markdown",
   "id": "1eab8641",
   "metadata": {},
   "source": [
    "### 모델과 예측\n",
    "- 모델 : 데이터를 설명하는 단순한 툴 (여기서는 1차함수의 절편, 기울기 => linear model)\n",
    "- 모델을 이용해서 예측을 할 수 있음\n",
    "\n",
    "### 중선형 회귀\n",
    "- 중선형회귀 : 독립변수가 여러 개 일때\n",
    "- 모델 생성 : 모델=ols('종속변수~독립변수1+독립변수2+ ... ', data=데이터).fit()"
   ]
  },
  {
   "cell_type": "code",
   "execution_count": 21,
   "id": "ed55790f",
   "metadata": {},
   "outputs": [
    {
     "data": {
      "text/plain": [
       "1401    5.393155\n",
       "1402    6.016788\n",
       "1403    5.947495\n",
       "1404    6.190020\n",
       "1405    5.704971\n",
       "          ...   \n",
       "4893    6.051434\n",
       "4894    5.497093\n",
       "4895    5.427801\n",
       "4896    6.605775\n",
       "4897    6.259312\n",
       "Length: 3497, dtype: float64"
      ]
     },
     "execution_count": 21,
     "metadata": {},
     "output_type": "execute_result"
    }
   ],
   "source": [
    "## 단순 선형 회귀 모델과 예측\n",
    "red_df= pd.read_csv(\"winequality-red.csv\", sep=\";\")\n",
    "red_df.head()\n",
    "m1 = ols('quality~alcohol', data=wine[:3000]).fit()  # 모델 생성 = 모델링 = 학습\n",
    "m1.predict(wine[3000:].alcohol)  # 3000번 이후를 예측"
   ]
  },
  {
   "cell_type": "code",
   "execution_count": null,
   "id": "c30055b3",
   "metadata": {},
   "outputs": [],
   "source": [
    "## 중선형 회귀 모델과 예측\n",
    "wine.columns = [c.replace(' ', '_') for c in wine.columns]  # 공백있는 column 이름 처리\n",
    "\n",
    "# 모델링\n",
    "model = ols ('quality~fixed_acidity+volatile_acidity+citric_acid+residual_sugar', data=wine).fit()\n",
    "print(model.summary())  # coef = 회귀 계수\n",
    "\n",
    "# 시각화\n",
    "fig = plot_partregress_grid(model)\n",
    "fig.tight_layout(pad=1)\n",
    "\n",
    "# 예측\n",
    "model.predict(wine[5000:][[\"fixed_acidity\", \"volatile_acidity\", \"citric_acid\", \"residual_sugar\"]])  # 예측"
   ]
  },
  {
   "cell_type": "markdown",
   "id": "38d539ee",
   "metadata": {},
   "source": [
    "# 머신러닝"
   ]
  },
  {
   "cell_type": "code",
   "execution_count": null,
   "id": "884a063f",
   "metadata": {},
   "outputs": [],
   "source": [
    "# sklearn 데이터로부터 Dataframe 가공\n",
    "from sklearn.datasets import fetch_california_housing\n",
    "housing = fetch_california_housing()\n",
    "df = pd.DataFrame(housing.data, columns = housing.feature_names); df"
   ]
  },
  {
   "cell_type": "code",
   "execution_count": null,
   "id": "67f67cb3",
   "metadata": {},
   "outputs": [],
   "source": [
    "# housing.data 독립변수\n",
    "# housing.target 종속변수\n",
    "df['PRICE'] = housing.target; df"
   ]
  },
  {
   "cell_type": "code",
   "execution_count": null,
   "id": "55de13d6",
   "metadata": {},
   "outputs": [],
   "source": [
    "## 1) 데이터 가공\n",
    "housing = fetch_california_housing()\n",
    "df = pd.DataFrame(housing.data, columns = housing.feature_names)\n",
    "df['PRICE'] = housing.target\n",
    "\n",
    "\n",
    "## 2) 모델 training\n",
    "## 2.1) X, Y 분할하기\n",
    "Y = df['MedInc']\n",
    "X = df.drop(['MedInc'], axis=1, inplace=False)\n",
    "\n",
    "## 2.2) 훈련용 데이터와 평가용 데이터 분할하기\n",
    "X_train, X_test, Y_train, Y_test = train_test_split(X, Y, test_size=0.3, random_state=2)\n",
    "\n",
    "\n",
    "## 3) 선형 회귀 분석\n",
    "## 3.1) 모델 생성\n",
    "lr = LinearRegression()\n",
    "\n",
    "## 3.2) 모델 훈련\n",
    "lr.fit(X_train, Y_train)\n",
    "\n",
    "## 3.3) 평가 데이터에 대한 예측 수행 -> 예측 결과 Y_predict 구하기\n",
    "Y_predict = lr.predict(X_test)\n",
    "Y_predict\n",
    "\n",
    "\n",
    "## 4) 결과 분석\n",
    "## 4.1) regression 모델 정보\n",
    "print('Y 절편 값: ', lr.intercept_)\n",
    "print('회귀 계수 값: ', np.round(lr.coef_, 1))\n",
    "coef = pd.Series(data=lr.coef_, index=X.columns)\n",
    "print(coef)\n",
    "print()\n",
    "\n",
    "## 5) 성능 분석\n",
    "mse = mean_squared_error(Y_test, Y_predict)\n",
    "rmse = np.sqrt(mse)\n",
    "print('MSE : {0:.3f}, RMSE : {1:.3f}'.format(mse, rmse))  # 오차가 0.734(rmse) 정도 됨\n",
    "\n",
    "print('상관계수 : {0:.3f}' .format(stats.pearsonr(Y_test, Y_predict).statistic))"
   ]
  },
  {
   "cell_type": "markdown",
   "id": "61235ec5",
   "metadata": {},
   "source": [
    "### 자동차 연비(mpg) 예측\n",
    "- 분석하지 않을 변수 제외하기\n",
    "    - 예: 자동차 연비\n",
    "        - car_name : string\n",
    "        - origin : 명목변수(크기가 의미가 없음)\n",
    "        - `data_df = data_df.drop(['car_name', 'origin'], axis=1, inplace=False)`"
   ]
  },
  {
   "cell_type": "code",
   "execution_count": null,
   "id": "c13b1ca8",
   "metadata": {},
   "outputs": [],
   "source": [
    "## 1) 데이터 가공\n",
    "import numpy as np\n",
    "import pandas as pd \n",
    "\n",
    "# 읽어오기\n",
    "data_df1 = pd.read_csv('auto-mpg.csv', header=0, engine='python')\n",
    "\n",
    "# 분석하지 않을 변수 제외하기\n",
    "data_df1 = data_df1.drop(['car_name', 'origin'], axis=1, inplace=False)\n",
    "\n",
    "# horsepower 이상치 제거 후 int 변환\n",
    "data_df1.horsepower=data_df1.horsepower.replace('?', np.NaN)\n",
    "data_df1 = data_df1.dropna()\n",
    "data_df1.horsepower= data_df1.horsepower.astype('int')\n",
    "\n",
    "\n",
    "# horsepower를 1/10 로 줄이고, 회귀계수가 어떻게 변하는지 확인\n",
    "data_df1['h10']= data_df1['horsepower']/10\n",
    "X = data_df1.drop(['horsepower'], axis=1, inplace=False)\n",
    "\n",
    "\n",
    "## 2) 모델 training\n",
    "from sklearn.model_selection import train_test_split\n",
    "\n",
    "## 2.1) X, Y 분할하기\n",
    "Y = X['mpg']\n",
    "X = X.drop(['mpg'], axis=1, inplace=False)\n",
    "\n",
    "\n",
    "## 2.2) 훈련용 데이터와 평가용 데이터 분할하기\n",
    "X_train, X_test, Y_train, Y_test = train_test_split(X, Y, test_size=0.2, random_state=1)\n",
    "\n",
    "\n",
    "## 3) 선형 회귀 분석\n",
    "from sklearn.linear_model import LinearRegression\n",
    "\n",
    "## 3.1) 모델 생성\n",
    "lr = LinearRegression()\n",
    "\n",
    "## 3.2) 모델 훈련\n",
    "lr.fit(X_train, Y_train)\n",
    "\n",
    "## 3.3) 평가 데이터에 대한 예측 수행 -> 예측 결과 Y_predict 구하기\n",
    "Y_predict = lr.predict(X_test)\n",
    "Y_predict\n",
    "\n",
    "\n",
    "## 4) 결과 분석\n",
    "## 4.1) regression 모델 정보\n",
    "coef = pd.Series(data=np.round(lr.coef_, 5), index=X.columns)\n",
    "print(coef)  # 회귀 계수\n",
    "\n",
    "## 0.01에서 0.07로 변경됨"
   ]
  },
  {
   "cell_type": "markdown",
   "id": "29e80dcf",
   "metadata": {},
   "source": [
    "### 모델 개선\n",
    "- 다른 regression model\n",
    "    - linear regression -> ridge regression\n",
    "- parameter tuning\n",
    "- feature selection"
   ]
  },
  {
   "cell_type": "code",
   "execution_count": 9,
   "id": "f98213c7",
   "metadata": {},
   "outputs": [
    {
     "name": "stdout",
     "output_type": "stream",
     "text": [
      "[0.52914148 0.51265575 0.53910719 0.5061093  0.55086183]\n"
     ]
    }
   ],
   "source": [
    "# k-fold 랜덤 추출\n",
    "## 1) 데이터 가공\n",
    "from sklearn.datasets import fetch_california_housing\n",
    "housing = fetch_california_housing()\n",
    "df = pd.DataFrame(housing.data, columns = housing.feature_names)\n",
    "\n",
    "\n",
    "## 2) 모델 training\n",
    "## 2.1) X, Y 분할하기\n",
    "df[\"PRICE\"] = housing.target\n",
    "Y = df['PRICE']\n",
    "X = df.drop(['PRICE'], axis=1, inplace=False)\n",
    "\n",
    "## 2.2) 훈련용 데이터와 평가용 데이터 분할하기\n",
    "X_train, X_test, Y_train, Y_test = train_test_split(X, Y, test_size=0.3, random_state=2)\n",
    "\n",
    "\n",
    "## 3) cross validation\n",
    "m = linear_model.Ridge(alpha=float(9)/10) \n",
    "scores = cross_validate(m, X, Y, cv=5 , scoring=make_scorer(mean_squared_error))  # KFold - 고정 분할\n",
    "\n",
    "\n",
    "kfold = KFold(n_splits=5, shuffle=True, random_state=1) # shuffle = False 면 고정 추출\n",
    "scores = cross_val_score(m, X, Y, cv=kfold, scoring=make_scorer(mean_squared_error))\n",
    "\n",
    "print(scores)"
   ]
  },
  {
   "cell_type": "markdown",
   "id": "445e9ce7",
   "metadata": {},
   "source": [
    "# 머신러닝\n",
    "- 0, 1 로 분류\n",
    "- 예측"
   ]
  },
  {
   "cell_type": "code",
   "execution_count": 28,
   "id": "6d17ccb2",
   "metadata": {},
   "outputs": [
    {
     "name": "stdout",
     "output_type": "stream",
     "text": [
      "[[ 60   3]\n",
      " [  1 107]]\n",
      "scaling) 정확도: 0.977, 정밀도: 0.973, 재현율: 0.991,  F1: 0.982\n"
     ]
    }
   ],
   "source": [
    "# 값 불러오기\n",
    "from sklearn.datasets import load_breast_cancer\n",
    "b_cancer = load_breast_cancer()\n",
    "b_cancer_df= pd.DataFrame(b_cancer.data, columns = b_cancer.feature_names)\n",
    "b_cancer_df['diagnosis'] = b_cancer.target\n",
    "\n",
    "# scaling\n",
    "scaler = StandardScaler()\n",
    "b_cancer_scaled = scaler.fit_transform(b_cancer.data)\n",
    "\n",
    "\n",
    "# X, Y 설정하기\n",
    "Y = b_cancer_df['diagnosis']\n",
    "X = b_cancer_scaled  # X값으로만 구성\n",
    "\n",
    "# 훈련용 데이터와 평가용 데이터 분할하기\n",
    "X_train, X_test, Y_train, Y_test = train_test_split(X, Y, test_size=0.3, random_state=0)\n",
    "\n",
    "# 로지스틱 회귀 분석 : (1)모델 생성\n",
    "lr_b_cancer = LogisticRegression()\n",
    "\n",
    "# 로지스틱 회귀 분석 : (2)모델 훈련\n",
    "lr_b_cancer.fit(X_train, Y_train)\n",
    "\n",
    "# 로지스틱 회귀 분석 : (3)평가 데이터에 대한 예측 수행 -> 예측 결과 Y_predict 구하기\n",
    "Y_predict = lr_b_cancer.predict(X_test)\n",
    "\n",
    "# 성능 - 혼돈행렬\n",
    "print(confusion_matrix(Y_test, Y_predict))\n",
    "\n",
    "acccuracy = accuracy_score(Y_test, Y_predict)\n",
    "precision = precision_score(Y_test, Y_predict)\n",
    "recall = recall_score(Y_test, Y_predict)\n",
    "f1 = f1_score(Y_test, Y_predict)\n",
    "\n",
    "print('scaling) 정확도: {0:.3f}, 정밀도: {1:.3f}, 재현율: {2:.3f},  F1: {3:.3f}'.format(acccuracy,precision,recall,f1))\n",
    "\n",
    "# scaling을 안 하면 수렴이 안 되어서 중간에 멈춤\n",
    "# scaling을 하면 정확도가 더 높아짐"
   ]
  },
  {
   "cell_type": "markdown",
   "id": "f66b87ba",
   "metadata": {},
   "source": [
    "### PCA\n",
    "- 차원 축소\n",
    "- 처리속도 향상\n",
    "- 시각화\n",
    "- 노이즈 제거\n",
    "### SVM"
   ]
  },
  {
   "cell_type": "code",
   "execution_count": 29,
   "id": "53a33b61",
   "metadata": {},
   "outputs": [
    {
     "name": "stdout",
     "output_type": "stream",
     "text": [
      "[[ 61   2]\n",
      " [  1 107]]\n",
      "3D scaling) 정확도: 0.982, 정밀도: 0.982, 재현율: 0.991,  F1: 0.986\n"
     ]
    }
   ],
   "source": [
    "## PCA 차원을 8으로 변경하고 성능측정 -> 모델을 svm으로 변경하여 성능 측정\n",
    "\n",
    "\n",
    "# fit & transform\n",
    "pca = decomposition.PCA(n_components=8)  # 30차원 -> 8차원\n",
    "pca.fit(b_cancer_scaled)\n",
    "b_cancer_pca = pca.transform(b_cancer_scaled)\n",
    "\n",
    "# X, Y 설정하기\n",
    "Y = b_cancer_df['diagnosis']\n",
    "X = b_cancer_pca\n",
    "\n",
    "# 훈련용 데이터와 평가용 데이터 분할하기\n",
    "X_train, X_test, Y_train, Y_test = train_test_split(X, Y, test_size=0.3, random_state=0)\n",
    "\n",
    "# SVM : (1)모델 생성\n",
    "model = svm.SVC()\n",
    "\n",
    "# SVM : (2)모델 훈련\n",
    "model.fit(X_train, Y_train)\n",
    "\n",
    "# SVM : (3)평가 데이터에 대한 예측 수행 -> 예측 결과 Y_predict 구하기\n",
    "Y_predict = model.predict(X_test)\n",
    "\n",
    "# 성능 - 혼돈행렬\n",
    "print(confusion_matrix(Y_test, Y_predict))\n",
    "\n",
    "acccuracy = accuracy_score(Y_test, Y_predict)\n",
    "precision = precision_score(Y_test, Y_predict)\n",
    "recall = recall_score(Y_test, Y_predict)\n",
    "f1 = f1_score(Y_test, Y_predict)\n",
    "\n",
    "print('3D scaling) 정확도: {0:.3f}, 정밀도: {1:.3f}, 재현율: {2:.3f},  F1: {3:.3f}'.format(acccuracy,precision,recall,f1))\n",
    "\n",
    "# 정확도가 떨어짐"
   ]
  },
  {
   "cell_type": "markdown",
   "id": "6ab4a5ff",
   "metadata": {},
   "source": [
    "### 결정 트리 모델"
   ]
  },
  {
   "cell_type": "code",
   "execution_count": null,
   "id": "ad161b2b",
   "metadata": {},
   "outputs": [],
   "source": [
    "# 결정 트리 분류 분석 : 1) 모델 생성\n",
    "dt_HAR = DecisionTreeClassifier(random_state=156, max_depth=8, min_samples_split=16)\n",
    "\n",
    "# 결정 트리 분류 분석 : 2) 모델 훈련\n",
    "dt_HAR.fit(X_train, Y_train)\n",
    "\n",
    "# 결정 트리 분류 분석 : 3) 평가 데이터에 대한 예측 수행 -> 예측 결과 Y_predict 구하기\n",
    "Y_predict = dt_HAR.predict(X_test)\n",
    "\n",
    "from sklearn.metrics import confusion_matrix\n",
    "print(confusion_matrix(Y_test, Y_predict))\n",
    "\n",
    "# 성능이 좋아짐"
   ]
  },
  {
   "cell_type": "code",
   "execution_count": null,
   "id": "8afaa3a7",
   "metadata": {},
   "outputs": [],
   "source": [
    "## 최적 파라이터 찾기\n",
    "params = {\n",
    "    'max_depth' : [ 8, 16, 20 ],\n",
    "    'min_samples_split' : [ 8, 16, 24 ]\n",
    "}  # 후보군\n",
    "\n",
    "grid_cv = GridSearchCV(dt_HAR, param_grid=params, scoring='accuracy', cv=5, return_train_score=True)\n",
    "grid_cv.fit(X_train , Y_train)"
   ]
  }
 ],
 "metadata": {
  "kernelspec": {
   "display_name": "Python 3 (ipykernel)",
   "language": "python",
   "name": "python3"
  },
  "language_info": {
   "codemirror_mode": {
    "name": "ipython",
    "version": 3
   },
   "file_extension": ".py",
   "mimetype": "text/x-python",
   "name": "python",
   "nbconvert_exporter": "python",
   "pygments_lexer": "ipython3",
   "version": "3.9.16"
  }
 },
 "nbformat": 4,
 "nbformat_minor": 5
}
