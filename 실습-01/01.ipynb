{
 "cells": [
  {
   "cell_type": "markdown",
   "metadata": {},
   "source": [
    "# 01 파이썬 리뷰"
   ]
  },
  {
   "cell_type": "markdown",
   "metadata": {},
   "source": [
    "## 파일 읽기 "
   ]
  },
  {
   "cell_type": "code",
   "execution_count": 3,
   "metadata": {},
   "outputs": [
    {
     "name": "stdout",
     "output_type": "stream",
     "text": [
      "line# :  17\n"
     ]
    }
   ],
   "source": [
    "# -*- coding: utf-8 -*-\n",
    "\n",
    "fd=open(\"studentlist.txt\")\n",
    "\n",
    "fd.readline() # 헤딩 \n",
    "\n",
    "lines= fd.readlines()\n",
    "\n",
    "print (\"line# : \", len(lines))"
   ]
  },
  {
   "cell_type": "markdown",
   "metadata": {},
   "source": [
    "## 필드 분할, type 가공"
   ]
  },
  {
   "cell_type": "code",
   "execution_count": 4,
   "metadata": {},
   "outputs": [
    {
     "name": "stdout",
     "output_type": "stream",
     "text": [
      "[['이미린', '여자', 22, '2', '무', 'AB', 170.1, 53.0, '03'], ['홍길동', '남자', 24, '4', '무', 'B', 175.0, 80.1, '01']]\n"
     ]
    }
   ],
   "source": [
    "Table=[] # 전체 레코드를 담은 테이블 \n",
    "\n",
    "for line in lines :  # 한 줄 씩  line 변수에 담아서\n",
    "    \n",
    "    fields= line.split(\",\") # , 를 기준으로 나눈다. -> fields라는 list가 만들어진다.\n",
    "    # name,sex,age,grade,absence,bloodtype,height,weight,dept\n",
    "    #  0    1   2    3    4        5         6     7      8\n",
    "\n",
    "    fields[2]= int(fields[2])  # 나이를 숫자로 바꿔 넣기\n",
    "\n",
    "    fields[6]= float(fields[6])  # 키를 숫자로 바꿔 넣기\n",
    "    fields[7] = float(fields[7]) # 몸무게도 \n",
    "    fields[8]= fields[8].strip()\n",
    "          \n",
    "    Table.append(fields)  #레코드를 테이블에 추가 \n",
    "\n",
    "print (Table[1:3])"
   ]
  },
  {
   "cell_type": "markdown",
   "metadata": {},
   "source": [
    "## 정렬"
   ]
  },
  {
   "cell_type": "code",
   "execution_count": 5,
   "metadata": {},
   "outputs": [
    {
     "name": "stdout",
     "output_type": "stream",
     "text": [
      "손세수 여자 20\n",
      "박미희 여자 21\n",
      "김민수 남자 21\n",
      "여수근 남자 21\n",
      "이미린 여자 22\n",
      "강수친 여자 22\n",
      "방희철 남자 22\n",
      "임동민 남자 22\n",
      "김미진 여자 22\n",
      "김길동 남자 23\n",
      "김철수 남자 23\n",
      "이희수 여자 23\n",
      "이철린 남자 23\n",
      "이희진 여자 23\n",
      "홍길동 남자 24\n",
      "박수호 남자 24\n",
      "김동수 남자 24\n"
     ]
    }
   ],
   "source": [
    "Table= sorted(Table, key = lambda con : con[2] ) # 나이로 정렬\n",
    "for record in Table :\n",
    "    print ( record[0], record[1], record[2])"
   ]
  },
  {
   "cell_type": "markdown",
   "metadata": {},
   "source": [
    "## 기술 통계 : 평균 구하기, 키 평균"
   ]
  },
  {
   "cell_type": "code",
   "execution_count": 6,
   "metadata": {},
   "outputs": [
    {
     "name": "stdout",
     "output_type": "stream",
     "text": [
      "170.03529411764706\n"
     ]
    }
   ],
   "source": [
    "heightSum=0\n",
    "for rec in Table :\n",
    "    height= rec[6]\n",
    "    heightSum+=height\n",
    "\n",
    "print (heightSum / len(Table))"
   ]
  },
  {
   "cell_type": "markdown",
   "metadata": {},
   "source": [
    "## 기술통계 :  도수 구하기 \n",
    "\n",
    "### 학과 별 학생 수 "
   ]
  },
  {
   "cell_type": "code",
   "execution_count": 7,
   "metadata": {},
   "outputs": [
    {
     "name": "stdout",
     "output_type": "stream",
     "text": [
      "{'01': 6, '03': 6, '02': 5}\n"
     ]
    }
   ],
   "source": [
    "dept_dic= {}  # {학과 코드: 도수}\n",
    "for rec in Table :\n",
    "    dept_code=rec[8]\n",
    "    if dept_code in dept_dic:\n",
    "        dept_dic[dept_code]+=1\n",
    "    else :\n",
    "        dept_dic[dept_code]=1\n",
    "\n",
    "print (dept_dic)"
   ]
  },
  {
   "cell_type": "markdown",
   "metadata": {},
   "source": [
    "## join \n",
    "### 학과 코드 파일 읽어서 도수 결과에 표기"
   ]
  },
  {
   "cell_type": "code",
   "execution_count": 8,
   "metadata": {},
   "outputs": [
    {
     "name": "stdout",
     "output_type": "stream",
     "text": [
      "소프트웨어 6\n",
      "통계보험 6\n",
      "AI융합 5\n"
     ]
    }
   ],
   "source": [
    "deptcode={}  # {학과 코드 : 실제 명칭}\n",
    "\n",
    "f=open(\"deptcode.txt\") \n",
    "for line in f:\n",
    "    code, name=line.split(\",\")\n",
    "    deptcode[code]=name.strip()\n",
    "    #print (deptcode)\n",
    "\n",
    "for key, value in dept_dic.items():\n",
    "    print (deptcode[key], value)\n"
   ]
  },
  {
   "cell_type": "markdown",
   "metadata": {},
   "source": [
    "## group by :  혈액형 별 키 평균\n",
    "\n",
    "### 혈액형 별 키 합계, 도수 집계  "
   ]
  },
  {
   "cell_type": "code",
   "execution_count": 9,
   "metadata": {},
   "outputs": [
    {
     "name": "stdout",
     "output_type": "stream",
     "text": [
      "{'A': [676.3, 4], 'O': [825.7, 5], 'AB': [532.2, 3], 'B': [856.4, 5]}\n"
     ]
    }
   ],
   "source": [
    "b_table={}  # 집계 테이블 : { 혈액형 : [합계, 도수] }\n",
    "\n",
    "for rec in Table :\n",
    "    bloodtype=rec[5]\n",
    "    if bloodtype in b_table:  # 진료과목이 있는지\n",
    "        b_table[bloodtype]= [ b_table[bloodtype][0]+rec[6], b_table[bloodtype][1]+ 1]  # 키 합계, 갯수 \n",
    "    else:\n",
    "        b_table[bloodtype]= [rec[6], 1]  # 키 , 갯수 \n",
    "\n",
    "print ( b_table)"
   ]
  },
  {
   "cell_type": "code",
   "execution_count": 10,
   "metadata": {},
   "outputs": [
    {
     "name": "stdout",
     "output_type": "stream",
     "text": [
      "A 169.075\n",
      "O 165.14000000000001\n",
      "AB 177.4\n",
      "B 171.28\n"
     ]
    }
   ],
   "source": [
    "for key, value in b_table.items():\n",
    "    print ( key , value[0]/value[1] )"
   ]
  },
  {
   "cell_type": "markdown",
   "metadata": {},
   "source": [
    "## *과제 1 : 성별, 혈액형 별 몸무게의 평균\n",
    "\n",
    "결과예시)\n",
    "\n",
    "남자, A, 얼마\n",
    "\n",
    "남자, B, 얼마\n",
    "\n",
    "### 제출방법 \n",
    "\n",
    "01.ipynb 파일 제출 (위 내용 포함)  "
   ]
  },
  {
   "cell_type": "code",
   "execution_count": 20,
   "metadata": {},
   "outputs": [
    {
     "name": "stdout",
     "output_type": "stream",
     "text": [
      "남자, B, 68.95\n",
      "남자, A, 58.75\n",
      "남자, AB, 80.75\n",
      "남자, O, 65.1\n",
      "여자, A, 52.25\n",
      "여자, O, 50.13333333333333\n",
      "여자, AB, 53.0\n",
      "여자, B, 45.2\n"
     ]
    }
   ],
   "source": [
    "w_table={rec[1] : {rec[5] : [0, 0]}}  # 집계 테이블 : { 성별 : { 혈액형 : [합계, 도수] } }\n",
    "\n",
    "for rec in Table :\n",
    "    sex=rec[1]\n",
    "    bloodtype=rec[5]\n",
    "    weight=rec[7]\n",
    "    if sex in w_table:  # 성별이 있는지\n",
    "        if bloodtype in w_table[sex] :  # 혈액형이 있는지\n",
    "            w_table[sex][bloodtype] = [w_table[sex][bloodtype][0]+weight, w_table[sex][bloodtype][1]+ 1]  # 몸무게 합계, 갯수 \n",
    "        else :\n",
    "            w_table[sex][bloodtype] = [weight, 1]  # 몸무게, 갯수\n",
    "    else:\n",
    "        w_table[sex] = { bloodtype : [weight, 1] }  # { 혈액형 : [합계, 도수] } \n",
    "\n",
    "for sex, values in w_table.items():\n",
    "    for bloodtype, value in w_table[sex].items() :\n",
    "        print(sex, bloodtype, value[0]/value[1], sep=', ')\n"
   ]
  },
  {
   "cell_type": "code",
   "execution_count": null,
   "metadata": {},
   "outputs": [],
   "source": []
  }
 ],
 "metadata": {
  "kernelspec": {
   "display_name": "Python 3 (ipykernel)",
   "language": "python",
   "name": "python3"
  },
  "language_info": {
   "codemirror_mode": {
    "name": "ipython",
    "version": 3
   },
   "file_extension": ".py",
   "mimetype": "text/x-python",
   "name": "python",
   "nbconvert_exporter": "python",
   "pygments_lexer": "ipython3",
   "version": "3.8.8"
  }
 },
 "nbformat": 4,
 "nbformat_minor": 4
}
